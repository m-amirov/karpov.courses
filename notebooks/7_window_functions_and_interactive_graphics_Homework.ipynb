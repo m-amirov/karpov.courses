{
 "cells": [
  {
   "attachments": {},
   "cell_type": "markdown",
   "metadata": {},
   "source": [
    "# Проект урока 7. Оконные функции и интерактивные графики\n",
    "#  «Анализ средних цен на авокадо»"
   ]
  },
  {
   "attachments": {},
   "cell_type": "markdown",
   "metadata": {},
   "source": [
    "## Шаг 1"
   ]
  },
  {
   "attachments": {},
   "cell_type": "markdown",
   "metadata": {},
   "source": [
    "Представьте, что вы — аналитик в агентстве, специализирующемся на изучении рынка продуктов питания. Вам поручено исследовать тренды цен на авокадо и проанализировать средние значения. Для этого у вас есть данные от Hass Avocado Board:\n",
    "\n",
    "- Date — дата  \n",
    "- AveragePrice — средняя цена одного авокадо  \n",
    "- Total Volume — количество проданных авокадо  \n",
    "- 4046 — количество проданных авокадо PLU 4046 (PLU — код товара, Product Lookup code)  \n",
    "- 4225 — количество проданных авокадо PLU 4225  \n",
    "- 4770 — количество проданных авокадо PLU 4770  \n",
    "- Total Bags — всего упаковок  \n",
    "- Small Bags — маленькие упаковки  \n",
    "- Large Bags — большие  \n",
    "- XLarge Bags — очень большие  \n",
    "- type — обычный или органический  \n",
    "- year — год  \n",
    "- Region — город или регион the city or region of the observation  \n",
    "\n",
    "В датафрейме находятся данные не за каждый день, а за конец каждой недели. Для каждой даты есть несколько наблюдений, отличающихся по типу авокадо и региону продажи. "
   ]
  },
  {
   "attachments": {},
   "cell_type": "markdown",
   "metadata": {},
   "source": [
    "Вы можете решать задания тем способом, который считаете наиболее удобным или оптимальным. А для того, чтобы лучше понять задание, следуйте по шагам выполнения. Бывает, что их можно выполнить в одну строчку, применяя методы друг за другом. А если выполняете шаги отдельно, не забудьте сохранить результат в переменную, чтобы на следующем шаге работать именно с ней.\n",
    "\n",
    "В ноутбуке место для вашего решения обозначено комментарием `# Ваш код здесь`, но вы можете писать код там, где вам удобно, добавлять или удалять ячейки с кодом или текстом по вашему усмотрению.\n",
    "\n",
    "Кроме того можно посмотреть подсказки, кликнув на строчку `► Нажмите сюда, чтобы увидеть подсказку`. Также не забывайте о наличии конспектов и возможности задать вопрос в Discord, ссылка на нужный тред есть на странице каждого шага в LMS"
   ]
  },
  {
   "attachments": {},
   "cell_type": "markdown",
   "metadata": {},
   "source": [
    "## Шаг 2"
   ]
  },
  {
   "attachments": {},
   "cell_type": "markdown",
   "metadata": {},
   "source": [
    "Для начала нас будут интересовать общие данные, без разбивки по типам авокадо и регионам. Прочитайте данные и сохраните датафрейм в переменную `avocado_full`. **Для каждой даты посчитайте усредненное значение средних цен на авокадо (см.колонку `AveragePrice`).** Сохраните результат в переменную `avocado_mean`.\n",
    "\n",
    "**Какое усредненное значение цены получилось в первой строчке, за 4 января 2015 года?** Округлять результат не нужно. В качестве разделителя дробной части используйте точку."
   ]
  },
  {
   "attachments": {},
   "cell_type": "markdown",
   "metadata": {},
   "source": [
    "Шаги выполнения:  \n",
    "1. Импортируйте библиотеку pandas"
   ]
  },
  {
   "attachments": {},
   "cell_type": "markdown",
   "metadata": {},
   "source": [
    "<details>\n",
    "<summary>&#9658; Нажмите сюда, чтобы увидеть подсказку</summary>\n",
    "  <p>\n",
    "      \n",
    "Для импорта библиотеки напишите\n",
    "```python\n",
    "import library as shortcut\n",
    "```\n",
    "где вместо `library` подставьте название библиотеки, а вместо `shortcut` - её общераспространённое сокращённое название\n",
    "</p>\n",
    "</details>"
   ]
  },
  {
   "cell_type": "code",
   "execution_count": 1,
   "metadata": {},
   "outputs": [],
   "source": [
    "import pandas as pd"
   ]
  },
  {
   "attachments": {},
   "cell_type": "markdown",
   "metadata": {},
   "source": [
    "2. Загрузите csv файл к уроку в свою папку в JupyterНub\n",
    "3. Прочитайте этот датасет, сохранив результат в переменную `avocado_full`. Укажите, что колонку `Date` нужно прочитать как дату"
   ]
  },
  {
   "attachments": {},
   "cell_type": "markdown",
   "metadata": {},
   "source": [
    "<details>\n",
    "<summary>&#9658; Нажмите сюда, чтобы увидеть подсказку</summary>\n",
    "  <p>\n",
    "      \n",
    "Данные находятся в файле формата CSV. Для их загрузки воспользуемся функцией `pd.read_csv()`, передав в качестве аргумента путь к файлу. В параметр `parse_dates` передайте список, содержащий название единственной колонки - `Date`. Например,\n",
    "```python\n",
    "df = pd.read_csv('data.csv', parse_dates=['col_date'])\n",
    "```\n",
    "считает файл `data.csv`, хранящийся в той же папке, что и юпитер ноутбук, в котором вы сейчас работаете. В колонке `col_date` тип данных будет datetime\n",
    "</p>\n",
    "</details>"
   ]
  },
  {
   "cell_type": "code",
   "execution_count": 2,
   "metadata": {},
   "outputs": [],
   "source": [
    "avacado_full = pd.read_csv('../data/avocado_full.csv', parse_dates=['Date'])"
   ]
  },
  {
   "attachments": {},
   "cell_type": "markdown",
   "metadata": {},
   "source": [
    "4. Посмотрите на содержимое датафрейма, проверьте его размер"
   ]
  },
  {
   "attachments": {},
   "cell_type": "markdown",
   "metadata": {},
   "source": [
    "<details>\n",
    "<summary>&#9658; Нажмите сюда, чтобы увидеть подсказку</summary>\n",
    "  <p>\n",
    "      \n",
    "**Как посмотреть на содержимое датафрейма?** Используйте метод `head()`\n",
    "\n",
    "**Как проверить размер датафрейма?** Используйте атрибут `shape`, чтобы узнать количество строк и столбцов. Этот атрибут возвращает кортеж, первый элемент которого указывает на количество строк, а второй — на количество столбцов в датафрейме.  \n",
    "      \n",
    "**Как обратиться к атрибуту датафрейма?** Для этого нужно написать переменную, где хранится датафрейм, поставить точку и написать название атрибута (без скобок!). Например:\n",
    "```python\n",
    "df.some_attribute\n",
    "```\n",
    "так мы обратимся к атрибуту `some_attribute` у датафрейма в переменной `df` \n",
    "      \n",
    "**Как использовать метод?** Например применим метод `some_method()` к датафрейму `df`:\n",
    "```python\n",
    "df.some_method()\n",
    "```\n",
    "</p>\n",
    "</details>"
   ]
  },
  {
   "cell_type": "code",
   "execution_count": 3,
   "metadata": {},
   "outputs": [
    {
     "name": "stdout",
     "output_type": "stream",
     "text": [
      "<class 'pandas.core.frame.DataFrame'>\n",
      "RangeIndex: 18249 entries, 0 to 18248\n",
      "Data columns (total 13 columns):\n",
      " #   Column        Non-Null Count  Dtype         \n",
      "---  ------        --------------  -----         \n",
      " 0   Date          18249 non-null  datetime64[ns]\n",
      " 1   AveragePrice  18249 non-null  float64       \n",
      " 2   Total Volume  18249 non-null  float64       \n",
      " 3   4046          18249 non-null  float64       \n",
      " 4   4225          18249 non-null  float64       \n",
      " 5   4770          18249 non-null  float64       \n",
      " 6   Total Bags    18249 non-null  float64       \n",
      " 7   Small Bags    18249 non-null  float64       \n",
      " 8   Large Bags    18249 non-null  float64       \n",
      " 9   XLarge Bags   18249 non-null  float64       \n",
      " 10  type          18249 non-null  object        \n",
      " 11  year          18249 non-null  int64         \n",
      " 12  region        18249 non-null  object        \n",
      "dtypes: datetime64[ns](1), float64(9), int64(1), object(2)\n",
      "memory usage: 1.8+ MB\n"
     ]
    }
   ],
   "source": [
    "avacado_full.info()\n",
    "\n"
   ]
  },
  {
   "attachments": {},
   "cell_type": "markdown",
   "metadata": {},
   "source": [
    "5. Сгруппируйте данные по дате и посчитайте для каждой даты усредненное значение средних цен на авокадо (см.колонку `AveragePrice`). Результат сохраните в переменную `avocado_mean`"
   ]
  },
  {
   "attachments": {},
   "cell_type": "markdown",
   "metadata": {},
   "source": [
    "<details>\n",
    "<summary>&#9658; Нажмите сюда, чтобы увидеть подсказку</summary>\n",
    "  <p>\n",
    "\n",
    "**Сгруппируйте данные по столбцу `Date`, используя метод `groupby()`**. Его вызов группирует строки по значениям в какой-то колонке (или комбинации значений из нескольких колонок). Например,\n",
    "\n",
    "```python\n",
    "df.groupby('month')\n",
    "```\n",
    "сгруппирует данные датафрейма `df` по колонке `month`. Сама по себе группировка не вычисляет что-то по группам.\n",
    "\n",
    "**После группировки используйте метод `mean()` для столбца `AveragePrice`**. Этот метод посчитает среднее всех значений в указанном столбце.\n",
    "\n",
    "**Как использовать метод?** Давайте применим метод `some_method()` к колонке `column_name` датафрейма `df`:\n",
    "```python\n",
    "df.column_name.some_method()\n",
    "```\n",
    "\n",
    "**Как использовать метод сразу после группировки?** Применим метод `some_method()` к колонке `column_name_2` после группировки по столбцу `column_name_1` датафрейма `df`:\n",
    "```python\n",
    "df.groupby('column_name_1').column_name_2.some_method()\n",
    "```      \n",
    "      \n",
    "**Как сохранить результат?** Например применим метод `some_method()` к датафрейму `df` и сохраним результат в переменную `new_df`:\n",
    "```python\n",
    "new_df = df.some_method()\n",
    "```\n",
    "</p>\n",
    "</details>"
   ]
  },
  {
   "cell_type": "code",
   "execution_count": 4,
   "metadata": {},
   "outputs": [],
   "source": [
    "avocado_mean = avacado_full.groupby('Date', as_index=False).AveragePrice.mean()\n"
   ]
  },
  {
   "attachments": {},
   "cell_type": "markdown",
   "metadata": {},
   "source": [
    "6. Посмотрите на значение усредненной цены в первой строчке получившейся переменной `avocado_mean`"
   ]
  },
  {
   "attachments": {},
   "cell_type": "markdown",
   "metadata": {},
   "source": [
    "<details>\n",
    "<summary>&#9658; Нажмите сюда, чтобы увидеть подсказку</summary>\n",
    "  <p>\n",
    "\n",
    "Это можно сделать без кода, просто глазами.\n",
    "      \n",
    "Если в первой строчке у вас стоит не 4 января 2015 года, а другая дата - вероятно, вы что-то сделали не так, вернитесь на предыдущий шаг выполнения\n",
    "</p>\n",
    "</details>"
   ]
  },
  {
   "attachments": {},
   "cell_type": "markdown",
   "metadata": {},
   "source": [
    "## Шаг 3"
   ]
  },
  {
   "attachments": {},
   "cell_type": "markdown",
   "metadata": {},
   "source": [
    "Перед тем, как приступить к подсчету скользящего среднего, убедитесь, что вы знаете параметры метода `rolling`, представленные в [документации pandas](https://pandas.pydata.org/pandas-docs/stable/reference/api/pandas.DataFrame.rolling.html). Установите соответствие между каждым параметром и его описанием."
   ]
  },
  {
   "attachments": {},
   "cell_type": "markdown",
   "metadata": {},
   "source": [
    "Шаги выполнения:  \n",
    "1. Откройте документацию по ссылке: https://pandas.pydata.org/pandas-docs/stable/reference/api/pandas.DataFrame.rolling.html и прочитайте, что значит каждый из параметров"
   ]
  },
  {
   "attachments": {},
   "cell_type": "markdown",
   "metadata": {},
   "source": [
    "<details>\n",
    "<summary>&#9658; Нажмите сюда, чтобы увидеть подсказку</summary>\n",
    "  <p>\n",
    "      \n",
    "При необходимости воспользуйтесь переводчиком\n",
    "</p>\n",
    "</details>"
   ]
  },
  {
   "attachments": {},
   "cell_type": "markdown",
   "metadata": {},
   "source": [
    "## Шаг 4"
   ]
  },
  {
   "attachments": {},
   "cell_type": "markdown",
   "metadata": {},
   "source": [
    "**Теперь на полученных во втором шаге данных посчитайте скользящее среднее цены авокадо, с окном равным 3. Чему равно максимальное значение?** Ответ округлите до двух знаков после точки."
   ]
  },
  {
   "attachments": {},
   "cell_type": "markdown",
   "metadata": {},
   "source": [
    "Шаги выполнения:  \n",
    "1. На данных из переменной `avocado_mean ` посчитайте скользящее среднее цены авокадо, с окном равным 3"
   ]
  },
  {
   "attachments": {},
   "cell_type": "markdown",
   "metadata": {},
   "source": [
    "<details>\n",
    "<summary>&#9658; Нажмите сюда, чтобы увидеть подсказку</summary>\n",
    "  <p>\n",
    "      \n",
    "**Как посчитать скользящее среднее, с окном равным 3?** Используйте комбинацию методов: сначала метод `rolling()`, в котором задайте параметр `window` равным 3; а после него - метод `mean`.\n",
    "    \n",
    "**Как использовать комбинацию методов?** Например применим сначала метод `some_method_1()` к серии `series` и зададим параметр `parameter` равным 5, а после него - метод `some_method_2()`:\n",
    "```python\n",
    "series.some_method_1(parameter=5).some_method_2()\n",
    "```\n",
    "      \n",
    "Если в переменной `avocado_mean` у вас получилась не серия с датой в индексе, а датафрейм с двумя колонками (дата и средняя цена), то применяйте метод `rolling()` к колонке `AveragePrice` этого датафрейма. Пример синтаксиса:\n",
    "```python\n",
    "df.col_name.some_method_1(parameter=5).some_method_2()\n",
    "```      \n",
    "</p>\n",
    "</details>"
   ]
  },
  {
   "cell_type": "code",
   "execution_count": 5,
   "metadata": {},
   "outputs": [
    {
     "data": {
      "text/plain": [
       "0           NaN\n",
       "1           NaN\n",
       "2      1.354352\n",
       "3      1.386296\n",
       "4      1.345093\n",
       "         ...   \n",
       "164    1.346914\n",
       "165    1.361296\n",
       "166    1.348302\n",
       "167    1.332994\n",
       "168    1.331883\n",
       "Name: AveragePrice, Length: 169, dtype: float64"
      ]
     },
     "execution_count": 5,
     "metadata": {},
     "output_type": "execute_result"
    }
   ],
   "source": [
    "avocado_mean.AveragePrice.rolling(window=3).mean()\n",
    "\n"
   ]
  },
  {
   "attachments": {},
   "cell_type": "markdown",
   "metadata": {},
   "source": [
    "2. Посмотрите на получившиеся значения - теперь к каждой дате относится среднее значение, полученное из значений за этот и два предыдущих дня. Первые две записи должны содержать `NaN`\n",
    "3. Определите максимальное значение из получившихся скользящих средних"
   ]
  },
  {
   "attachments": {},
   "cell_type": "markdown",
   "metadata": {},
   "source": [
    "<details>\n",
    "<summary>&#9658; Нажмите сюда, чтобы увидеть подсказку</summary>\n",
    "  <p>\n",
    "      \n",
    "**Как определить максимальное значение?** Используйте метод `max()`\n",
    "      \n",
    "**Как использовать метод?** Например применим метод `some_method()` к датафрейму `df`:\n",
    "```python\n",
    "df.some_method()\n",
    "```\n",
    "</p>\n",
    "</details>"
   ]
  },
  {
   "cell_type": "code",
   "execution_count": 6,
   "metadata": {},
   "outputs": [
    {
     "data": {
      "text/plain": [
       "np.float64(1.8493209876543208)"
      ]
     },
     "execution_count": 6,
     "metadata": {},
     "output_type": "execute_result"
    }
   ],
   "source": [
    "# Ваш код здесь\n",
    "avocado_mean.AveragePrice.rolling(window=3).mean().max()\n"
   ]
  },
  {
   "attachments": {},
   "cell_type": "markdown",
   "metadata": {},
   "source": [
    "4. Округлите максимальное значение до двух знаков после точки"
   ]
  },
  {
   "attachments": {},
   "cell_type": "markdown",
   "metadata": {},
   "source": [
    "<details>\n",
    "<summary>&#9658; Нажмите сюда, чтобы увидеть подсказку</summary>\n",
    "  <p>\n",
    "\n",
    "Используйте метод `round()`. По умолчанию округление идет до целого числа. Чтобы задать нужное число знаков после точки, передайте в метод аргумент — целое число. Например применим метод к колонке `column_name` датафрейма `df`, задав округление до пяти знаков после точки:\n",
    "```python\n",
    "df.column_name.round(5)\n",
    "```\n",
    "\n",
    "Если выполняете задание не в JupyterHub нашего курса, то может возникнуть ошибка `AttributeError: 'float' object has no attribute 'round'`, тогда вместо метода `round()` используйте встроенную функцию python `round`. Например:\n",
    "```python\n",
    "round(12.345, 1)\n",
    "```\n",
    "в результате получим число 12.3      \n",
    "</p>\n",
    "</details>"
   ]
  },
  {
   "cell_type": "code",
   "execution_count": 7,
   "metadata": {},
   "outputs": [
    {
     "data": {
      "text/plain": [
       "np.float64(1.85)"
      ]
     },
     "execution_count": 7,
     "metadata": {},
     "output_type": "execute_result"
    }
   ],
   "source": [
    "round(avocado_mean.AveragePrice.\\\n",
    "      rolling(window=3). \\\n",
    "      mean(). \\\n",
    "      max(), \n",
    "      2)\n",
    "\n"
   ]
  },
  {
   "attachments": {},
   "cell_type": "markdown",
   "metadata": {},
   "source": [
    "## Шаг 5"
   ]
  },
  {
   "attachments": {},
   "cell_type": "markdown",
   "metadata": {},
   "source": [
    "Исследуйте, как размер окна влияет на сглаживание значения. **Постройте линейные графики и посмотрите, как изменится линия в зависимости от выбранного размера окна (2, 4, 10, 50). Соотнесите эти картинки с соответствующим значением размера окна:**"
   ]
  },
  {
   "attachments": {},
   "cell_type": "markdown",
   "metadata": {},
   "source": [
    "![](https://ucarecdn.com/c24cc8c4-4596-4d71-a6ca-b5ad8ac3cd6f/)"
   ]
  },
  {
   "attachments": {},
   "cell_type": "markdown",
   "metadata": {},
   "source": [
    "Шаги выполнения:  \n",
    "1. Импортируйте библиотеку `seaborn` и модуль `pyplot` из библиотеки `matplotlib`"
   ]
  },
  {
   "attachments": {},
   "cell_type": "markdown",
   "metadata": {},
   "source": [
    "<details>\n",
    "<summary>&#9658; Нажмите сюда, чтобы увидеть подсказку</summary>\n",
    "  <p>\n",
    "      \n",
    "**Для импорта библиотеки напишите**\n",
    "```python\n",
    "import library as shortcut\n",
    "```\n",
    "где вместо `library` подставьте название библиотеки, а вместо `shortcut` - её общераспространённое сокращённое название\n",
    "      \n",
    "**Для импорта модуля из библиотеки напишите**\n",
    "\n",
    "```python\n",
    "import library.module as shortcut\n",
    "```\n",
    "где вместо `library` подставьте название библиотеки, вместо `module` — название модуля, а вместо `shortcut` — его общераспространённое сокращённое название\n",
    "</p>\n",
    "</details>"
   ]
  },
  {
   "cell_type": "code",
   "execution_count": 8,
   "metadata": {},
   "outputs": [],
   "source": [
    "import seaborn as sns\n",
    "from matplotlib import pyplot as plt\n",
    "\n"
   ]
  },
  {
   "attachments": {},
   "cell_type": "markdown",
   "metadata": {},
   "source": [
    "2. Создайте список `windows`, в котором перечислите значения размеров окна"
   ]
  },
  {
   "attachments": {},
   "cell_type": "markdown",
   "metadata": {},
   "source": [
    "<details>\n",
    "<summary>&#9658; Нажмите сюда, чтобы увидеть подсказку</summary>\n",
    "  <p>\n",
    "      \n",
    "**Чтобы создать список,** напишите в квадратных скобках числа, означающие размер окна, и сохраните это в переменную `windows`. Например, код:\n",
    "```python\n",
    "list_123 = [1, 2, 3]\n",
    "```\n",
    "создаст переменную `list_123`, в которой будет храниться список с тремя значениями: 1, 2 и 3\n",
    "</p>\n",
    "</details>"
   ]
  },
  {
   "cell_type": "code",
   "execution_count": 9,
   "metadata": {},
   "outputs": [],
   "source": [
    "windows = [2, 4, 10, 50]"
   ]
  },
  {
   "attachments": {},
   "cell_type": "markdown",
   "metadata": {},
   "source": [
    "3. Постройте линейные графики с разными размерами окон, используя функцию `plt.subplots()` из библиотеки `matplotlib` и функцию `lineplot` из библиотеки `seaborn`"
   ]
  },
  {
   "attachments": {},
   "cell_type": "markdown",
   "metadata": {},
   "source": [
    "<details>\n",
    "<summary>&#9658; Нажмите сюда, чтобы увидеть подсказку</summary>\n",
    "  <p>\n",
    "      \n",
    "**Выполните в одной ячейке:**\n",
    "      \n",
    "1. Сохраните в переменные `fig, axes` результат выполнения функции `plt.subplots` c аргументами `4, 1, figsize=(8, 12)`, где 4 - количество графиков по вертикали, 1 - количество графиков по горизонтали, figsize - общий размер фигуры из 4 графиков\n",
    "      \n",
    "2. Напишите цикл, чтобы на каждом его шаге генерилась пара переменных `i, window` с помощью функции `enumerate`, в которую передан список `windows` со значениями размера окна (с предыдущего шага выполнения). В теле цикла:  \n",
    "      a. создавайте новый датафрейм, в котором на основе данных из `avocado_mean` считается скользящее среднее с размером окна, равным числу из переменной `window`  \n",
    "      b. стройте график на основе этого датафрейма, используя функцию `sns.lineplot`. В параметр `ax` этой функции передайте `axes[i]`, чтобы на каждом шаге цикла график строился на своем месте  \n",
    "      c. установите название для каждого графика, в котором пропишите размер окна. Для этого используйте `axes[i].set_title()`, f-строку и размер окна из переменной `window`\n",
    "      \n",
    "3. Используйте функцию `plt.tight_layout()`, чтобы интервал между графиками был корректным и графики не перекрывали друг друга\n",
    "     \n",
    "Пример синтаксиса:      \n",
    "\n",
    "```python\n",
    "fig, axes = plt.subplots(2, 1, figsize=(8, 6))\n",
    "for i, variable in enumerate(variables):\n",
    "    df_new = df.some_method(some_parameter=variable)\n",
    "    sns.barplot(data=df_new, ax=axes[i])\n",
    "    axes[i].set_title(f'variable is {variable}')\n",
    "plt.tight_layout()\n",
    "```      \n",
    "</p>\n",
    "</details>"
   ]
  },
  {
   "cell_type": "code",
   "execution_count": 10,
   "metadata": {},
   "outputs": [
    {
     "data": {
      "image/png": "[encoded data removed]",
      "text/plain": [
       "<Figure size 800x1200 with 4 Axes>"
      ]
     },
     "metadata": {},
     "output_type": "display_data"
    }
   ],
   "source": [
    "fig, ax = plt.subplots(4, 1, figsize=(8, 12))\n",
    "\n",
    "for i, window in enumerate(windows):\n",
    "    avocado_mean_window = avocado_mean.AveragePrice.rolling(window=window).mean()\n",
    "    sns.lineplot(data=avocado_mean_window, ax=ax[i])\n",
    "    ax[i].set_title(f'Window is {window}')\n",
    "plt.tight_layout()"
   ]
  },
  {
   "attachments": {},
   "cell_type": "markdown",
   "metadata": {},
   "source": [
    "4. Посмотрите на получившиеся графики и соотнесите картинки в LMS с соответствующим значением размера окна"
   ]
  },
  {
   "attachments": {},
   "cell_type": "markdown",
   "metadata": {},
   "source": [
    "<details>\n",
    "<summary>&#9658; Нажмите сюда, чтобы увидеть подсказку</summary>\n",
    "  <p>\n",
    "      \n",
    "Обратите внимание на то, насколько сглаженными получились значения.\n",
    "      \n",
    "Цвет графика не играет роли\n",
    "</p>\n",
    "</details>"
   ]
  },
  {
   "attachments": {},
   "cell_type": "markdown",
   "metadata": {},
   "source": [
    "## Шаг 6"
   ]
  },
  {
   "attachments": {},
   "cell_type": "markdown",
   "metadata": {},
   "source": [
    "**Теперь посчитайте экспоненциальное скользящее среднее.** Используйте данные в переменной `avocado_mean` и метод `ewm()` с параметром `span`, равным 2. Результат запишите в переменную `avocado_ewm`.\n",
    "\n",
    "**На LMS уже создана переменная `avocado_mean`. Загрузите в LMS ваш код, в котором сохраняете в переменную `avocado_ewm` расчет экспоненциального скользящего среднего**"
   ]
  },
  {
   "attachments": {},
   "cell_type": "markdown",
   "metadata": {},
   "source": [
    "Шаги выполнения:  \n",
    "1. Посчитайте экспоненциальное скользящее среднее на основе данных из переменной `avocado_mean`. Используйте метод `ewm()` с параметром `span`, равным 2, и метод `mean()`. Результат запишите в переменную `avocado_ewm`"
   ]
  },
  {
   "attachments": {},
   "cell_type": "markdown",
   "metadata": {},
   "source": [
    "<details>\n",
    "<summary>&#9658; Нажмите сюда, чтобы увидеть подсказку</summary>\n",
    "  <p>\n",
    "      \n",
    "Как использовать методы `ewm()` и `mean()`? Напишите их друг за другом, сначала `ewm()`. В этом методе задайте параметр `span=2`\n",
    "      \n",
    "Например применим сначала метод `some_method_1()` к серии `series` и зададим параметр `parameter` равным 5, а после него - метод `some_method_2()`. Результат запишем в переменную `new_variable`:\n",
    "```python\n",
    "new_variable = series.some_method_1(parameter=5).some_method_2()\n",
    "```\n",
    "\n",
    "**Не забудьте сохранить результат в переменную `avocado_ewm`.**  \n",
    "      \n",
    "Если в `avocado_mean` к этому моменту у вас получилась не серия с датой в индексе, а датафрейм с двумя колонками (дата и средняя цена), то сначала переведите колонку с датой в индекс и сохраните результат в ту же переменную `avocado_mean` с помощью следующего кода:\n",
    "```python\n",
    "avocado_mean = avocado_mean.set_index('Date')\n",
    "```      \n",
    "**Этот код копировать в ЛМС не нужно**    \n",
    "</p>\n",
    "</details>"
   ]
  },
  {
   "cell_type": "code",
   "execution_count": 11,
   "metadata": {},
   "outputs": [
    {
     "data": {
      "text/plain": [
       "0      1.301296\n",
       "1      1.353310\n",
       "2      1.379480\n",
       "3      1.391394\n",
       "4      1.294758\n",
       "         ...   \n",
       "164    1.356212\n",
       "165    1.352194\n",
       "166    1.340793\n",
       "167    1.322734\n",
       "168    1.338812\n",
       "Name: AveragePrice, Length: 169, dtype: float64"
      ]
     },
     "execution_count": 11,
     "metadata": {},
     "output_type": "execute_result"
    }
   ],
   "source": [
    "avocado_mean.AveragePrice.ewm(span=2).mean()\n",
    "\n"
   ]
  },
  {
   "attachments": {},
   "cell_type": "markdown",
   "metadata": {},
   "source": [
    "2. Скопируйте и загрузите в LMS весь ваш код для этого задания"
   ]
  },
  {
   "attachments": {},
   "cell_type": "markdown",
   "metadata": {},
   "source": [
    "## Шаг 7"
   ]
  },
  {
   "attachments": {},
   "cell_type": "markdown",
   "metadata": {},
   "source": [
    "Теперь вернемся к изначальным данным из датафрейма `avocado_full`. Для органических авокадо (см.колонку `type`) в Чикаго (см.колонку `region`) посчитайте скользящее среднее с окном 4. Числа округлите до трех знаков после точки. На основе получившихся данных постройте интерактивный линейный график, чтобы было удобно заполнить пропуски:\n",
    "\n",
    "*При подсчете скользящего среднего средняя цена за авокадо 21 августа 2016 года была равна ..., 19 февраля 2017 её значение было равно ...*"
   ]
  },
  {
   "attachments": {},
   "cell_type": "markdown",
   "metadata": {},
   "source": [
    "Шаги выполнения:  \n",
    "1. Отберите только записи о покупках органических авокадо в Чикаго и сохраните результат в переменную `organic_ch`"
   ]
  },
  {
   "attachments": {},
   "cell_type": "markdown",
   "metadata": {},
   "source": [
    "<details>\n",
    "<summary>&#9658; Нажмите сюда, чтобы увидеть подсказку</summary>\n",
    "  <p>\n",
    "\n",
    "**Чтобы отобрать только нужные записи, примените к датафрейму метод `query()`,** внутри которого напишите строку с двойным условием: значение в колонке `type` равно organic и регион в колонке `region` — Chicago.\n",
    "\n",
    "Как использовать метод `query()`? Например, отберем строки датафрейма `df`, где в колонке `col_1` значение равно 5 или в колонке `col_2` значение не равно `some_string`:\n",
    "\n",
    "```python\n",
    "df_new = df.query('col_1 == 5 or col_2 != \"some_string\"')\n",
    "```    \n",
    "      \n",
    "Между условиями поставьте логический оператор: `and` (или `&`), если оба условия обязательно должны выполняться. Или оператор `or` (или `|`), если должно выполняться хотя бы одно из условий.\n",
    "      \n",
    "Учтите, что оба условия нужно писать в единых кавычках, а каждое условие и названия колонок — без кавычек. Целые числа также пишутся без кавычек, а строки — в кавычках (двойных или одинарных — главное, не тех, в которые взяты оба условия).\n",
    "      \n",
    "Помните, что один знак равно означает присвоение, а два — проверку на равенство.\n",
    "      \n",
    "**Как сохранить отобранные записи в новый датафрейм?** Например, код\n",
    "```python\n",
    "new_df = df.query()\n",
    "```\n",
    "сохранит в датафрейм `new_df` только отобранные значения из датафрейма `df`\n",
    "    \n",
    "</p>\n",
    "</details>"
   ]
  },
  {
   "cell_type": "code",
   "execution_count": 97,
   "metadata": {},
   "outputs": [],
   "source": [
    "organic_ch = avacado_full.query('type == \"organic\" and region == \"Chicago\"')"
   ]
  },
  {
   "attachments": {},
   "cell_type": "markdown",
   "metadata": {},
   "source": [
    "2. Переведите колонку с датой `Date` в индекс"
   ]
  },
  {
   "attachments": {},
   "cell_type": "markdown",
   "metadata": {},
   "source": [
    "<details>\n",
    "<summary>&#9658; Нажмите сюда, чтобы увидеть подсказку</summary>\n",
    "  <p>\n",
    "      \n",
    "Примените к датафрейму метод `set_index()`, подав в метод строку с названием колонки, которую нужно сделать индексом.\n",
    "      \n",
    "**Как использовать метод?** Например применим метод `some_method()` к датафрейму `df`:\n",
    "```python\n",
    "df = df.some_method('some_column')\n",
    "```\n",
    "Не забудьте сохранить результат применения метода в этот же датафрейм.\n",
    "</p>\n",
    "</details>"
   ]
  },
  {
   "cell_type": "code",
   "execution_count": 98,
   "metadata": {},
   "outputs": [],
   "source": [
    "organic_ch = organic_ch.set_index('Date')"
   ]
  },
  {
   "attachments": {},
   "cell_type": "markdown",
   "metadata": {},
   "source": [
    "3. На получившихся данных посчитайте скользящее среднее с окном 4"
   ]
  },
  {
   "attachments": {},
   "cell_type": "markdown",
   "metadata": {},
   "source": [
    "<details>\n",
    "<summary>&#9658; Нажмите сюда, чтобы увидеть подсказку</summary>\n",
    "  <p>\n",
    "      \n",
    "**Как посчитать скользящее среднее, с окном равным 4?** Используйте комбинацию методов: сначала метод `rolling()`, в котором задайте параметр `window` равным 4; а после него - метод `mean`.\n",
    "    \n",
    "**Как использовать комбинацию методов?** Например применим сначала метод `some_method_1()` к серии `series` и зададим параметр `parameter` равным 5, а после него - метод `some_method_2()`:\n",
    "```python\n",
    "series.some_method_1(parameter=5).some_method_2()\n",
    "```   \n",
    "</p>\n",
    "</details>"
   ]
  },
  {
   "cell_type": "code",
   "execution_count": 99,
   "metadata": {},
   "outputs": [
    {
     "data": {
      "text/plain": [
       "Date\n",
       "2015-01-04       NaN\n",
       "2015-01-11       NaN\n",
       "2015-01-18       NaN\n",
       "2015-01-25    1.7300\n",
       "2015-02-01    1.7375\n",
       "               ...  \n",
       "2018-02-25    1.6525\n",
       "2018-03-04    1.6525\n",
       "2018-03-11    1.6550\n",
       "2018-03-18    1.6550\n",
       "2018-03-25    1.6575\n",
       "Name: AveragePrice, Length: 169, dtype: float64"
      ]
     },
     "execution_count": 99,
     "metadata": {},
     "output_type": "execute_result"
    }
   ],
   "source": [
    "organic_ch.AveragePrice.rolling(window=4).mean()\n"
   ]
  },
  {
   "attachments": {},
   "cell_type": "markdown",
   "metadata": {},
   "source": [
    "4. Получившиеся значения округлите до трех знаков после точки"
   ]
  },
  {
   "attachments": {},
   "cell_type": "markdown",
   "metadata": {},
   "source": [
    "<details>\n",
    "<summary>&#9658; Нажмите сюда, чтобы увидеть подсказку</summary>\n",
    "  <p>\n",
    "\n",
    "Используйте метод `round()`. По умолчанию округление идет до целого числа. Чтобы задать нужное число знаков после точки, передайте в метод аргумент — целое число. Применим метод к серии `series`, задав округление до пяти знаков после точки:\n",
    "```python\n",
    "series.round(5)\n",
    "```\n",
    "</p>\n",
    "</details>"
   ]
  },
  {
   "cell_type": "code",
   "execution_count": 102,
   "metadata": {},
   "outputs": [
    {
     "data": {
      "text/plain": [
       "Date\n",
       "2015-01-04      NaN\n",
       "2015-01-11      NaN\n",
       "2015-01-18      NaN\n",
       "2015-01-25    1.730\n",
       "2015-02-01    1.738\n",
       "              ...  \n",
       "2018-02-25    1.652\n",
       "2018-03-04    1.652\n",
       "2018-03-11    1.655\n",
       "2018-03-18    1.655\n",
       "2018-03-25    1.658\n",
       "Name: AveragePrice, Length: 169, dtype: float64"
      ]
     },
     "execution_count": 102,
     "metadata": {},
     "output_type": "execute_result"
    }
   ],
   "source": [
    "organic_ch_rolling = round(organic_ch.AveragePrice.rolling(window=4).\\\n",
    "            mean(), \n",
    "      3)\n",
    "organic_ch_rolling"
   ]
  },
  {
   "attachments": {},
   "cell_type": "markdown",
   "metadata": {},
   "source": [
    "5. Импортируйте модуль `express` из библиотеки `plotly`"
   ]
  },
  {
   "attachments": {},
   "cell_type": "markdown",
   "metadata": {},
   "source": [
    "<details>\n",
    "<summary>&#9658; Нажмите сюда, чтобы увидеть подсказку</summary>\n",
    "<p>\n",
    "      \n",
    "**Для импорта модуля из библиотеки напишите**\n",
    "\n",
    "```python\n",
    "import library.module as shortcut\n",
    "```\n",
    "где вместо `library` подставьте название библиотеки, вместо `module` — название модуля, а вместо `shortcut` — его общераспространённое сокращённое название\n",
    "</p>\n",
    "</details>"
   ]
  },
  {
   "cell_type": "code",
   "execution_count": 47,
   "metadata": {},
   "outputs": [],
   "source": [
    "import plotly.express as px\n"
   ]
  },
  {
   "attachments": {},
   "cell_type": "markdown",
   "metadata": {},
   "source": [
    "6. На основе получившихся данных постройте интерактивный линейный график, используя функцию `line()` из модуля `express` библиотеки `plotly`"
   ]
  },
  {
   "attachments": {},
   "cell_type": "markdown",
   "metadata": {},
   "source": [
    "<details>\n",
    "<summary>&#9658; Нажмите сюда, чтобы увидеть подсказку</summary>\n",
    "  <p>\n",
    "      \n",
    "Передайте в функцию `px.line()` округленные данные, получившиеся на 4 шаге выполнения.\n",
    "Пример синтаксиса:      \n",
    "\n",
    "```python\n",
    "px.line(some_data)\n",
    "```      \n",
    "</p>\n",
    "</details>"
   ]
  },
  {
   "cell_type": "code",
   "execution_count": 109,
   "metadata": {},
   "outputs": [
    {
     "name": "stderr",
     "output_type": "stream",
     "text": [
      "C:\\Users\\maksim\\AppData\\Local\\Temp\\ipykernel_10640\\928482012.py:2: FutureWarning:\n",
      "\n",
      "The behavior of 'isin' with dtype=datetime64[ns] and castable values (e.g. strings) is deprecated. In a future version, these will not be considered matching by isin. Explicitly cast to the appropriate dtype before calling isin instead.\n",
      "\n"
     ]
    },
    {
     "data": {
      "text/html": [
       "<div>\n",
       "<style scoped>\n",
       "    .dataframe tbody tr th:only-of-type {\n",
       "        vertical-align: middle;\n",
       "    }\n",
       "\n",
       "    .dataframe tbody tr th {\n",
       "        vertical-align: top;\n",
       "    }\n",
       "\n",
       "    .dataframe thead th {\n",
       "        text-align: right;\n",
       "    }\n",
       "</style>\n",
       "<table border=\"1\" class=\"dataframe\">\n",
       "  <thead>\n",
       "    <tr style=\"text-align: right;\">\n",
       "      <th></th>\n",
       "      <th>AveragePrice</th>\n",
       "    </tr>\n",
       "    <tr>\n",
       "      <th>Date</th>\n",
       "      <th></th>\n",
       "    </tr>\n",
       "  </thead>\n",
       "  <tbody>\n",
       "  </tbody>\n",
       "</table>\n",
       "</div>"
      ],
      "text/plain": [
       "Empty DataFrame\n",
       "Columns: [AveragePrice]\n",
       "Index: []"
      ]
     },
     "execution_count": 109,
     "metadata": {},
     "output_type": "execute_result"
    }
   ],
   "source": [
    "# px.line(organic_ch_rolling, x='AveragePrice')\n",
    "\n"
   ]
  },
  {
   "attachments": {},
   "cell_type": "markdown",
   "metadata": {},
   "source": [
    "7. Найдите значения в заданные даты и заполните пропуски"
   ]
  },
  {
   "attachments": {},
   "cell_type": "markdown",
   "metadata": {},
   "source": [
    "<details>\n",
    "<summary>&#9658; Нажмите сюда, чтобы увидеть подсказку</summary>\n",
    "  <p>\n",
    "      \n",
    "Наведите мышку на линию графика в нужную дату, в подписи посмотрите точное искомое значение     \n",
    "</p>\n",
    "</details>"
   ]
  },
  {
   "attachments": {},
   "cell_type": "markdown",
   "metadata": {},
   "source": [
    "## Шаг 8"
   ]
  },
  {
   "attachments": {},
   "cell_type": "markdown",
   "metadata": {},
   "source": [
    "Для ещё большего обобщения информации, чем подсчет скользящих значений, можно использовать разделение значений на группы, интервалы. **С помощью функции `cut()` из библиотеки `pandas` разбейте средние цены (см.колонку `AveragePrice` в датафрейме `organic_ch` с прошлого шага с записями только об органических авокадо в Чикаго) на две группы: те, что больше общего среднего значения по всем этим ценам и те, что не больше (то есть средняя цена будет меньше или равна общему среднему). Определите, каких цен больше.** Для этого:  \n",
    "1) Выведите описательную статистику для колонки со средним ценами и определите минимальное, среднее и максимальное значения.  \n",
    "2) Вместо минимального, возьмите значение, которое будет ниже минимального (насколько ниже — не важно).  \n",
    "3) Сохраните три значения (ниже минимального, среднее и максимальное) в таком же порядке в список `bins` (это будут три границы для двух групп цен (левая граница не включается в группу, а правая включается).  \n",
    "4) Запишите в список `labels` две строки с названиями групп в таком порядке: `меньше или равно среднему` и `больше среднего`.  \n",
    "5) Используя подготовленные списки `bins` и `labels`, с помощью функции `pd.cut()` разбейте значения в колонке `AveragePrice` датафрейма `organic_ch` на группы — и сохраните результат в новую колонку `AveragePrice_label` этого же датафрейма.  \n",
    "6) Посчитайте, каких значений цен больше: тех, что `меньше или равно среднему`, или тех, что `больше среднего`."
   ]
  },
  {
   "attachments": {},
   "cell_type": "markdown",
   "metadata": {},
   "source": [
    "Шаги выполнения:  \n",
    "1. Выведите описательную статистику для колонки `AveragePrice` в датафрейме `organic_ch` и определите минимальное, среднее и максимальное значения  "
   ]
  },
  {
   "attachments": {},
   "cell_type": "markdown",
   "metadata": {},
   "source": [
    "<details>\n",
    "<summary>&#9658; Нажмите сюда, чтобы увидеть подсказку</summary>\n",
    "  <p>\n",
    "      \n",
    "**Как получить описательную статистику?** Примените к колонке датафрейма метод `describe()`.\n",
    "      \n",
    "**Как использовать метод?** Например применим метод `some_method()` к колонке `col_name` датафрейма `df`:\n",
    "```python\n",
    "df.col_name.some_method()\n",
    "```\n",
    "</p>\n",
    "</details>"
   ]
  },
  {
   "cell_type": "code",
   "execution_count": 119,
   "metadata": {},
   "outputs": [
    {
     "data": {
      "text/plain": [
       "count    169.000000\n",
       "mean       1.744201\n",
       "std        0.225277\n",
       "min        1.080000\n",
       "25%        1.600000\n",
       "50%        1.680000\n",
       "75%        1.920000\n",
       "max        2.300000\n",
       "Name: AveragePrice, dtype: float64"
      ]
     },
     "execution_count": 119,
     "metadata": {},
     "output_type": "execute_result"
    }
   ],
   "source": [
    "organic_ch.AveragePrice.describe()\n",
    "\n"
   ]
  },
  {
   "attachments": {},
   "cell_type": "markdown",
   "metadata": {},
   "source": [
    "2. Сохраните три значения (ниже минимального, среднее и максимальное) в таком же порядке в список `bins`"
   ]
  },
  {
   "attachments": {},
   "cell_type": "markdown",
   "metadata": {},
   "source": [
    "<details>\n",
    "<summary>&#9658; Нажмите сюда, чтобы увидеть подсказку</summary>\n",
    "  <p>\n",
    "      \n",
    "**Как сохранить значения в список?** Например:\n",
    "```python\n",
    "new_list = [1, 'some_string']\n",
    "```\n",
    "Обратите внимание, что числа пишутся без кавычек, а строки - в кавычках\n",
    "</p>\n",
    "</details>"
   ]
  },
  {
   "cell_type": "code",
   "execution_count": 121,
   "metadata": {},
   "outputs": [],
   "source": [
    "bins = [1.079000, 1.744201, 2.300000]\n",
    "\n",
    "\n"
   ]
  },
  {
   "attachments": {},
   "cell_type": "markdown",
   "metadata": {},
   "source": [
    "3. Запишите в список `labels` две строки с названиями групп в таком порядке: `меньше или равно среднему` (можно назвать `less than or equal to average`) и `больше среднего` (можно назвать `more than average`)"
   ]
  },
  {
   "attachments": {},
   "cell_type": "markdown",
   "metadata": {},
   "source": [
    "<details>\n",
    "<summary>&#9658; Нажмите сюда, чтобы увидеть подсказку</summary>\n",
    "  <p>\n",
    "      \n",
    "**Как сохранить значения в список?** Например:\n",
    "```python\n",
    "new_list = [1, 'some_string']\n",
    "```\n",
    "Обратите внимание, что числа пишутся без кавычек, а строки - в кавычках\n",
    "</p>\n",
    "</details>"
   ]
  },
  {
   "cell_type": "code",
   "execution_count": 122,
   "metadata": {},
   "outputs": [],
   "source": [
    "labels = ['less than or equal to average', 'more than average']\n",
    "\n"
   ]
  },
  {
   "attachments": {},
   "cell_type": "markdown",
   "metadata": {},
   "source": [
    "4. С помощью функции `pd.cut()` разбейте значения средних цен на группы. В функцию подайте колонку `AveragePrice` датафрейма `organic_ch`, а также задайте параметры `bins` и `labels`, используя соответствующие списки. Сохраните результат в новую колонку `AveragePrice_label` этого же датафрейма"
   ]
  },
  {
   "attachments": {},
   "cell_type": "markdown",
   "metadata": {},
   "source": [
    "<details>\n",
    "<summary>&#9658; Нажмите сюда, чтобы увидеть подсказку</summary>\n",
    "  <p>\n",
    "      \n",
    "Передайте в функцию `pd.cut()` колонку `AveragePrice` датафрейма `organic_ch` и задайте параметр `bins` равным списку `bins`, а параметр `labels` равным списку `labels`. Результат сохраните в новую колонку `AveragePrice_label` этого же датафрейма.\n",
    "      \n",
    "Пример синтаксиса:      \n",
    "\n",
    "```python\n",
    "df['new_col'] = pd.some_function(df.col_name, some_parameter=some_list)\n",
    "```      \n",
    "</p>\n",
    "</details>"
   ]
  },
  {
   "cell_type": "code",
   "execution_count": 123,
   "metadata": {},
   "outputs": [
    {
     "data": {
      "text/plain": [
       "Date\n",
       "2015-01-04    less than or equal to average\n",
       "2015-01-11                more than average\n",
       "2015-01-18                more than average\n",
       "2015-01-25                more than average\n",
       "2015-02-01    less than or equal to average\n",
       "                          ...              \n",
       "2018-02-25    less than or equal to average\n",
       "2018-03-04    less than or equal to average\n",
       "2018-03-11    less than or equal to average\n",
       "2018-03-18    less than or equal to average\n",
       "2018-03-25    less than or equal to average\n",
       "Name: AveragePrice, Length: 169, dtype: category\n",
       "Categories (2, object): ['less than or equal to average' < 'more than average']"
      ]
     },
     "execution_count": 123,
     "metadata": {},
     "output_type": "execute_result"
    }
   ],
   "source": [
    "pd.cut(organic_ch.AveragePrice, bins=bins, labels=labels)\n",
    "\n"
   ]
  },
  {
   "attachments": {},
   "cell_type": "markdown",
   "metadata": {},
   "source": [
    "5. Посчитайте количество записей, относящихся к каждой из двух получившихся в колонке `AveragePrice_label` групп"
   ]
  },
  {
   "attachments": {},
   "cell_type": "markdown",
   "metadata": {},
   "source": [
    "<details>\n",
    "<summary>&#9658; Нажмите сюда, чтобы увидеть подсказку</summary>\n",
    "  <p>\n",
    "\n",
    "**Используйте метод `value_counts()`**, применив его к столбцу `AveragePrice_label` датафрейма `organic_ch`. Этот метод возвращает серию, где индексы — это уникальные значения из столбца, а значения — это число их встречаний (количество строк с таким значением).\n",
    "      \n",
    "**Как использовать метод?** Например применим метод `some_method()` к колонке `column_name` датафрейма `df`:\n",
    "```python\n",
    "df.column_name.some_method()\n",
    "```\n",
    "</p>\n",
    "</details>"
   ]
  },
  {
   "cell_type": "code",
   "execution_count": 124,
   "metadata": {},
   "outputs": [
    {
     "data": {
      "text/plain": [
       "AveragePrice\n",
       "less than or equal to average    95\n",
       "more than average                74\n",
       "Name: count, dtype: int64"
      ]
     },
     "execution_count": 124,
     "metadata": {},
     "output_type": "execute_result"
    }
   ],
   "source": [
    "pd.cut(organic_ch.AveragePrice, bins=bins, labels=labels).value_counts()"
   ]
  },
  {
   "attachments": {},
   "cell_type": "markdown",
   "metadata": {},
   "source": [
    "6. Посмотрите на результат подсчета и определите, каких значений цен (записей) больше: тех, что `меньше или равно среднему`, или тех, что `больше среднего`"
   ]
  },
  {
   "attachments": {},
   "cell_type": "markdown",
   "metadata": {},
   "source": [
    "## Итоги"
   ]
  },
  {
   "attachments": {},
   "cell_type": "markdown",
   "metadata": {},
   "source": [
    "В этом уроке вы исследовали тренды цен на авокадо и проанализировали средние значения, используя оконные функции (скользящее среднее и экспоненциальное скользящее среднее) и интерактивные графики, а также потренировались преобразовывать числовую переменную в категориальную, чтобы поделить значения на группы"
   ]
  }
 ],
 "metadata": {
  "kernelspec": {
   "display_name": "Python 3",
   "language": "python",
   "name": "python3"
  },
  "language_info": {
   "codemirror_mode": {
    "name": "ipython",
    "version": 3
   },
   "file_extension": ".py",
   "mimetype": "text/x-python",
   "name": "python",
   "nbconvert_exporter": "python",
   "pygments_lexer": "ipython3",
   "version": "3.11.2"
  }
 },
 "nbformat": 4,
 "nbformat_minor": 4
}
