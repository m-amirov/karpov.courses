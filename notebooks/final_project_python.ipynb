{
 "cells": [
  {
   "attachments": {},
   "cell_type": "markdown",
   "metadata": {},
   "source": [
    "# Финальный проект модуля Python\n",
    "#  «Анализ данных об оптовых продажах аудиотехники»"
   ]
  },
  {
   "attachments": {},
   "cell_type": "markdown",
   "metadata": {},
   "source": [
    "**В финальном проекте модуля Python вам предстоит поработать аналитиком данных в компании «Карпов Саунд», которая занимается оптовой продажей аудиотехники и предлагает широкий ассортимент товаров от ведущих мировых брендов, включающий профессиональные аудиосистемы, домашние кинотеатры, портативные аудиоустройства и прочие аксессуары.** \n",
    "\n",
    "«Карпов Саунд» сотрудничает с крупными розничными сетями и специализированными магазинами аудиотехники в России. Клиенты компании регулярно оставляют заявки на закупку товаров в CRM системе, менеджеры связываются с клиентами, обсуждают детали, после чего заказы либо подтверждаются менеджерами, либо по разным причинам отменяются. \n",
    "\n",
    "В «Карпов Саунд» трепетно относятся к хранению информации о своих товарах, клиентах и заказах, однако в самый неподходящий момент хранилище данных компании оказалось временно недоступно из-за плановых работ по его оптимизации. Поэтому в рамках этого проекта все данные будут представлены не в самом удобном для анализа виде — в формате резервной выгрузки, разложенной по разным папкам на сервере компании.\n",
    "\n",
    "Вам необходимо собрать данные из разрозненных источников, проанализировать их и сделать выводы, которые помогут руководству компании принять верные тактические решения."
   ]
  },
  {
   "attachments": {},
   "cell_type": "markdown",
   "metadata": {},
   "source": [
    "**В ходе работы над проектом вам встретятся следующие таблицы:**  \n",
    "\n",
    "1) orders (данные о заказах):  \n",
    "- order_id — номер заказа  \n",
    "- product_id — идентификатор товара  \n",
    "- quantity — количество этого товара в заказе\n",
    "\n",
    "2) order_status (данные о статусах заказов и клиентах):\n",
    "- order_id — номер заказа  \n",
    "- client_id — идентификатор клиента  \n",
    "- status — статус заказа\n",
    "\n",
    "3) products (данные о товарах):\n",
    "- id — идентификатор товара  \n",
    "- name — имя товара (сначала указан бренд, через запятую модель товара)  \n",
    "- price — цена единицы товара, в долларах"
   ]
  },
  {
   "attachments": {},
   "cell_type": "markdown",
   "metadata": {},
   "source": [
    "Каждый заказ имеет статус или подтвержденного (`confirmed`), или отмененного (`canceled`). В одном заказе может быть несколько разных товаров. Если заказ был отменен, а потом создан такой же (тем же клиентом, с теми же товарами, у того же менеджера), в базе останется запись о двух заказах с разными номерами и статусами, поскольку система не позволяет создать заказ с тем же номером.\n",
    "\n",
    "Сначала вам нужно собрать и предобработать три типа датасетов: `orders.csv`, `order_status.csv`, `products.csv`."
   ]
  },
  {
   "attachments": {},
   "cell_type": "markdown",
   "metadata": {},
   "source": [
    "На схеме показано, как связаны таблицы между собой:"
   ]
  },
  {
   "attachments": {},
   "cell_type": "markdown",
   "metadata": {},
   "source": [
    "![](https://storage.yandexcloud.net/klms-public/production/learning-content/457/4167/37264/104636/497986/er_white.png)"
   ]
  },
  {
   "attachments": {},
   "cell_type": "markdown",
   "metadata": {},
   "source": [
    "Данные находятся в папке `data` из директории `shared` (`shared` -> `homeworks` -> `python_ds_miniprojects` -> `final_project`). Внутри папки `data` находятся 2 другие папки: `orders` и `products`.\n",
    "\n",
    "В папке `orders` папки с датами, в которые сделаны записи. В этих папках — папки с именами менеджеров по продажам. Эти папки содержат файлы `orders.csv` и `order_status.csv` (в каждой папке по одной паре файлов). Пример структуры: `data` -> `orders` -> `2024-03-01` -> `Алексей Саксофонов` -> `orders.csv` и `order_status.csv`.\n",
    "\n",
    "В папке `products` папки с категориями товаров. В этих папках файлы `products.csv` (в каждой папке по одному файлу). Пример структуры: `data` -> `products` -> `AV-процессор` -> `products.csv`."
   ]
  },
  {
   "attachments": {},
   "cell_type": "markdown",
   "metadata": {},
   "source": [
    "Кроме того у вас есть файл `usd_rate.txt` с курсом доллара США на каждый день анализируемого периода (данные в формате `дата,курс,валюта`). Он потребуется в середине проекта."
   ]
  },
  {
   "attachments": {},
   "cell_type": "markdown",
   "metadata": {},
   "source": [
    "В финальном проекте модуля вы можете пользоваться подсказками в ноутбуке (они менее подробные, чем были в предыдущих уроках), обращаться за помощью к экспертам в Discord и смотреть разборы в LMS (за просмотр разбора снимается половина баллов за задание)."
   ]
  },
  {
   "attachments": {},
   "cell_type": "markdown",
   "metadata": {},
   "source": [
    "### Соберем датасет с заказами по папкам"
   ]
  },
  {
   "attachments": {},
   "cell_type": "markdown",
   "metadata": {},
   "source": [
    "## Шаг 2"
   ]
  },
  {
   "attachments": {},
   "cell_type": "markdown",
   "metadata": {},
   "source": [
    "**Ваша первая задача — собрать данные со всех папок в три датафрейма:**  \n",
    "1. `df_orders` — на основе датасетов `orders.csv` + добавьте колонку `manager` с именами менеджеров и колонку `date` с датами. \n",
    "2. `df_order_status` — на основе датасетов `order_status.csv`.  \n",
    "3. `df_products` — на основе датасетов `products.csv` + добавьте колонку `category` с категориями товаров.  \n",
    "\n",
    "**Соберите датафреймы и сохраните их в соответствующие csv файлы: `df_orders.csv`, `df_order_status.csv` и `df_products.csv`. Отправьте файлы на проверку в LMS.**"
   ]
  },
  {
   "attachments": {},
   "cell_type": "markdown",
   "metadata": {},
   "source": [
    "<details>\n",
    "<summary>&#9658; Нажмите сюда, чтобы увидеть подсказку</summary>\n",
    "  <p>\n",
    "      \n",
    "1) Импортируйте библиотеки `pandas` и `os`.  \n",
    "      \n",
    "2) По аналогии с кодом, который вы использовали для сбора данных в 7-м уроке про грязные данные, сделайте следующее:  \n",
    "a. создайте путь к папке `data`, используя ваш логин;  \n",
    "b. соберите названия нужных вам файлов (`orders.csv`, `order_status.csv`, `products.csv`) в список `target_files`;  \n",
    "c. создайте пустой список `data_files`, куда будете сохранять пути к файлам;  \n",
    "d. с помощью функции `os.walk()` создайте генератор;  \n",
    "e. с помощью цикла пройдитесь по генератору и, если название файла совпадает с нужным вам из списка `target_files`, путь к этому файлу добавьте в список `data_files`.\n",
    "      \n",
    "3) Используя пути к файлам из списка `data_files`, соберите полные датафреймы `df_orders`, `df_order_status` и `df_products`:  \n",
    "a. создайте пустые списки `orders_df_list`, `order_status_df_list` и `products_df_list`, чтобы в них сложить данные для соответствующих датафреймов;  \n",
    "b. с помощью цикла пройдитесь по путям в списке `data_files` и прочитайте датафрейм по этому пути. Добавьте датафрейм в тот или иной список в зависимости от того, название какого датасета содержит путь. Если в названии пути есть `orders.csv`, перед добавлением в список создайте колонки `manager` с именами менеджеров и `date` с датами. А если в названии пути есть `products.csv`, перед добавлением в список создайте колонку `category` с категориями товаров. Для создания колонок используйте подстроки из строки с путем.  \n",
    "      \n",
    "4) Каждый раз используя функцию `pd.concat` с параметром `ignore_index=True`, соберите данные в датафреймы: из списка `orders_df_list` в датафрейм `df_orders`, из списка `order_status_df_list` — в датафрейм `df_order_status`, а из списка `products_df_list` - в датафрейм `df_products`.\n",
    "      \n",
    "5) Проверьте размер каждого датафрейма и убедитесь, что:\n",
    "- `df_orders` имеет размер (4603, 5)\n",
    "- `df_order_status` — (346, 3)\n",
    "- `df_products` — (1677, 4)\n",
    "      \n",
    "6) Сохраните каждый датафрейм в соответствующий csv файл, задав его название как строку и параметр `index=False`.\n",
    "      \n",
    "7) По одному скачайте получившиеся csv файлы из той же папки в JupyterHub, где находится ноутбук, в котором вы пишете этот код.\n",
    "\n",
    "      \n",
    "</p>\n",
    "</details>"
   ]
  },
  {
   "cell_type": "code",
   "execution_count": 94,
   "metadata": {},
   "outputs": [],
   "source": [
    "import os\n",
    "import pandas as pd"
   ]
  },
  {
   "cell_type": "code",
   "execution_count": 95,
   "id": "d63bfbc3",
   "metadata": {},
   "outputs": [],
   "source": [
    "way = '../data/final_project/'\n",
    "file_paths = []\n",
    "df_orders = pd.DataFrame()\n",
    "df_order_status = pd.DataFrame() \n",
    "df_products = pd.DataFrame()\n",
    "\n",
    "for root, dirs, files in os.walk(way, topdown=False):\n",
    "    for file in files:\n",
    "        if file.endswith('.csv'):\n",
    "            file_path = os.path.join(root, file)\n",
    "            file_paths.append(file_path)\n",
    "\n",
    "for file in file_paths:\n",
    "    data = pd.read_csv(file)\n",
    "    if file.split('/')[3].split('\\\\')[0] == 'orders' and file.endswith('order_status.csv'): # таблица со статусами заказов\n",
    "        df_order_status = pd.concat([df_order_status, data], ignore_index=True)\n",
    "\n",
    "    elif file.split('/')[3].split('\\\\')[0] == 'orders': # таблица с заказами менеджеров\n",
    "        data['manager'] = file.split('\\\\')[2]\n",
    "        data['date'] = file.split('\\\\')[1]\n",
    "        df_orders = pd.concat([df_orders, data], ignore_index=True)\n",
    "\n",
    "    elif file.split('/')[3].split('\\\\')[0] == 'products': # таблица с товаром\n",
    "        data['category'] = file.split('\\\\')[1]\n",
    "        df_products = pd.concat([df_products, data], ignore_index=True)\n",
    "\n",
    "df_products = df_products.reset_index().drop(columns=['index'])\n",
    "df_order_status = df_order_status.reset_index().drop(columns='index')\n",
    "df_orders = df_orders.reset_index().drop(columns='index')\n"
   ]
  },
  {
   "cell_type": "code",
   "execution_count": 96,
   "id": "d7cf7a7c",
   "metadata": {},
   "outputs": [],
   "source": [
    "df_products.to_csv('../data/final_project/products.csv', index=False)\n",
    "df_order_status.to_csv('../data/final_project/order_status.csv', index=False)\n",
    "df_orders.to_csv('../data/final_project/orders.csv', index=False)\n",
    "\n",
    "df_orders = pd.read_csv('../data/final_project/orders.csv', parse_dates=['date'])"
   ]
  },
  {
   "attachments": {},
   "cell_type": "markdown",
   "metadata": {},
   "source": [
    "### Посмотрим на общую динамику заказов и определим дни, которые выбиваются из общей картины"
   ]
  },
  {
   "attachments": {},
   "cell_type": "markdown",
   "metadata": {},
   "source": [
    "## Шаг 3"
   ]
  },
  {
   "attachments": {},
   "cell_type": "markdown",
   "metadata": {},
   "source": [
    "Посчитайте количество заказов в каждый день. **Определите день с наибольшим числом заказов.** Укажите этот день в том формате, в котором он представлен в данных (гггг-мм-дд)."
   ]
  },
  {
   "attachments": {},
   "cell_type": "markdown",
   "metadata": {},
   "source": [
    "<details>\n",
    "<summary>&#9658; Нажмите сюда, чтобы увидеть подсказку</summary>\n",
    "  <p>\n",
    "      \n",
    "1) Переведите колонку `date` в тип `datetime`.\n",
    "      \n",
    "2) Сгруппируйте данные по дате и посчитайте число уникальных заказов. Получившуюся колонку с числом заказов можете переименовать в `orders`.\n",
    "      \n",
    "3) Отсортируйте данные по убыванию числа заказов и возьмите дату из верхней строчки.\n",
    "      \n",
    "</p>\n",
    "</details>"
   ]
  },
  {
   "cell_type": "code",
   "execution_count": 97,
   "metadata": {},
   "outputs": [
    {
     "data": {
      "text/html": [
       "<div>\n",
       "<style scoped>\n",
       "    .dataframe tbody tr th:only-of-type {\n",
       "        vertical-align: middle;\n",
       "    }\n",
       "\n",
       "    .dataframe tbody tr th {\n",
       "        vertical-align: top;\n",
       "    }\n",
       "\n",
       "    .dataframe thead th {\n",
       "        text-align: right;\n",
       "    }\n",
       "</style>\n",
       "<table border=\"1\" class=\"dataframe\">\n",
       "  <thead>\n",
       "    <tr style=\"text-align: right;\">\n",
       "      <th></th>\n",
       "      <th>date</th>\n",
       "      <th>quantity</th>\n",
       "      <th>count</th>\n",
       "    </tr>\n",
       "  </thead>\n",
       "  <tbody>\n",
       "    <tr>\n",
       "      <th>322</th>\n",
       "      <td>2024-03-14</td>\n",
       "      <td>16</td>\n",
       "      <td>31</td>\n",
       "    </tr>\n",
       "    <tr>\n",
       "      <th>0</th>\n",
       "      <td>2024-03-01</td>\n",
       "      <td>18</td>\n",
       "      <td>24</td>\n",
       "    </tr>\n",
       "    <tr>\n",
       "      <th>323</th>\n",
       "      <td>2024-03-14</td>\n",
       "      <td>18</td>\n",
       "      <td>24</td>\n",
       "    </tr>\n",
       "    <tr>\n",
       "      <th>324</th>\n",
       "      <td>2024-03-14</td>\n",
       "      <td>20</td>\n",
       "      <td>24</td>\n",
       "    </tr>\n",
       "    <tr>\n",
       "      <th>1</th>\n",
       "      <td>2024-03-01</td>\n",
       "      <td>22</td>\n",
       "      <td>22</td>\n",
       "    </tr>\n",
       "    <tr>\n",
       "      <th>...</th>\n",
       "      <td>...</td>\n",
       "      <td>...</td>\n",
       "      <td>...</td>\n",
       "    </tr>\n",
       "    <tr>\n",
       "      <th>792</th>\n",
       "      <td>2024-03-30</td>\n",
       "      <td>15</td>\n",
       "      <td>1</td>\n",
       "    </tr>\n",
       "    <tr>\n",
       "      <th>790</th>\n",
       "      <td>2024-03-30</td>\n",
       "      <td>9</td>\n",
       "      <td>1</td>\n",
       "    </tr>\n",
       "    <tr>\n",
       "      <th>789</th>\n",
       "      <td>2024-03-30</td>\n",
       "      <td>4</td>\n",
       "      <td>1</td>\n",
       "    </tr>\n",
       "    <tr>\n",
       "      <th>788</th>\n",
       "      <td>2024-03-30</td>\n",
       "      <td>3</td>\n",
       "      <td>1</td>\n",
       "    </tr>\n",
       "    <tr>\n",
       "      <th>801</th>\n",
       "      <td>2024-03-31</td>\n",
       "      <td>18</td>\n",
       "      <td>1</td>\n",
       "    </tr>\n",
       "  </tbody>\n",
       "</table>\n",
       "<p>802 rows × 3 columns</p>\n",
       "</div>"
      ],
      "text/plain": [
       "          date  quantity  count\n",
       "322 2024-03-14        16     31\n",
       "0   2024-03-01        18     24\n",
       "323 2024-03-14        18     24\n",
       "324 2024-03-14        20     24\n",
       "1   2024-03-01        22     22\n",
       "..         ...       ...    ...\n",
       "792 2024-03-30        15      1\n",
       "790 2024-03-30         9      1\n",
       "789 2024-03-30         4      1\n",
       "788 2024-03-30         3      1\n",
       "801 2024-03-31        18      1\n",
       "\n",
       "[802 rows x 3 columns]"
      ]
     },
     "execution_count": 97,
     "metadata": {},
     "output_type": "execute_result"
    }
   ],
   "source": [
    "df_orders.groupby('date', as_index=False).quantity.value_counts().sort_values('count', ascending=False)"
   ]
  },
  {
   "attachments": {},
   "cell_type": "markdown",
   "metadata": {},
   "source": [
    "## Шаг 4"
   ]
  },
  {
   "attachments": {},
   "cell_type": "markdown",
   "metadata": {},
   "source": [
    "**Постройте график с количеством заказов по дням и определите, заметна ли в данных сезонность.**\n",
    "\n",
    "- Да, по выходным заказов намного больше, чем в остальные дни  \n",
    "- Да, по выходным почти нет заказов  \n",
    "- Да, по понедельникам заказов всегда больше, чем в остальные дни недели  \n",
    "- Да, по понедельникам заказов всегда меньше, чем в остальные дни недели  \n",
    "- Нет, в данных сложно обнаружить какие-то закономерности  "
   ]
  },
  {
   "attachments": {},
   "cell_type": "markdown",
   "metadata": {},
   "source": [
    "<details>\n",
    "<summary>&#9658; Нажмите сюда, чтобы увидеть подсказку</summary>\n",
    "  <p>\n",
    "      \n",
    "1) Импортируйте библиотеку `seaborn` и модуль `pyplot` из библиотеки `matplotlib`.\n",
    "      \n",
    "2) Чтобы все графики в ноутбуке имели одинаковое форматирование, можете установить общие настройки через `sns.set()`.\n",
    "      \n",
    "3) Постройте линейный график, где по оси `х` будут идти даты, а по оси `у` — количество заказов. Если метки с датами наползают друг на друга, поверните их под углом 45 градусов.\n",
    "      \n",
    "</p>\n",
    "</details>"
   ]
  },
  {
   "cell_type": "code",
   "execution_count": 98,
   "id": "f926878b",
   "metadata": {},
   "outputs": [],
   "source": [
    "# Преобразование даты в день недели\n",
    "df_orders['day_name'] = df_orders['date'].dt.day_name()"
   ]
  },
  {
   "cell_type": "code",
   "execution_count": 99,
   "metadata": {},
   "outputs": [
    {
     "data": {
      "text/plain": [
       "<Axes: xlabel='day_name', ylabel='count'>"
      ]
     },
     "execution_count": 99,
     "metadata": {},
     "output_type": "execute_result"
    },
    {
     "data": {
      "image/png": "[encoded data removed]",
      "text/plain": [
       "<Figure size 3000x400 with 1 Axes>"
      ]
     },
     "metadata": {},
     "output_type": "display_data"
    }
   ],
   "source": [
    "import seaborn as sns\n",
    "from matplotlib import pyplot as plt\n",
    "\n",
    "sns.set_theme(style=\"darkgrid\", palette=\"husl\")\n",
    "plt.figure(figsize=(30, 4))\n",
    "sns.countplot(x='day_name',  data=df_orders)\n",
    "df_orders = df_orders.drop(columns='day_name')\n"
   ]
  },
  {
   "attachments": {},
   "cell_type": "markdown",
   "metadata": {},
   "source": [
    "## Шаг 5"
   ]
  },
  {
   "attachments": {},
   "cell_type": "markdown",
   "metadata": {},
   "source": [
    "**Кажется, в данных помимо дня с наибольшим числом заказов есть еще один день, который выбивается из общей картины.** Что это за день:  \n",
    "- Это воскресенье, в которое было много заказов?  \n",
    "- Это понедельник, в который было много заказов?  \n",
    "- Это пятница, в которую было мало заказов?  \n",
    "- Это праздничный день, в который было мало заказов?\n",
    "\n",
    "Подумайте, почему так вышло? Укажите этот день в том формате, в котором он представлен в данных (гггг-мм-дд)"
   ]
  },
  {
   "attachments": {},
   "cell_type": "markdown",
   "metadata": {},
   "source": [
    "<details>\n",
    "<summary>&#9658; Нажмите сюда, чтобы увидеть подсказку</summary>\n",
    "  <p>\n",
    "      \n",
    "Проверьте каждый из четырех предложенных поинтов: есть ли дни, соответствующие одному или нескольким поинтам? Посмотрите на график или на значения в датафрейме с количеством заказов по дням.\n",
    "      \n",
    "</p>\n",
    "</details>"
   ]
  },
  {
   "attachments": {},
   "cell_type": "markdown",
   "metadata": {},
   "source": [
    "## Шаг 6"
   ]
  },
  {
   "attachments": {},
   "cell_type": "markdown",
   "metadata": {},
   "source": [
    "К вам пришел радостный руководитель отдела продаж и попросил выяснить причину, почему заказы в один из дней резко подскочили, чтобы и дальше увеличивать продажи.\n",
    "\n",
    "Возможно, в день с наибольшим числом заказов (который вы определили на третьем шаге) отдел маркетинга запустил какую-то акцию? Или менеджеры стали активнее предлагать компаниям оформить заказ? Нужно подробнее изучить этот день. Начнем со статусов заказа.\n",
    "\n",
    "**Добавьте к данным о заказах информацию об их статусах. Общий датафрейм назовите `orders_status`. Сохраните получившийся датафрейм в csv файл `orders_status.csv` (при сохранении используйте параметр `index=False`) и отправьте этот csv файл на проверку в LMS.**"
   ]
  },
  {
   "attachments": {},
   "cell_type": "markdown",
   "metadata": {},
   "source": [
    "<details>\n",
    "<summary>&#9658; Нажмите сюда, чтобы увидеть подсказку</summary>\n",
    "  <p>\n",
    "      \n",
    "1) Объедините датафреймы `df_orders` и `df_order_status` в новый `orders_status`.\n",
    "      \n",
    "2) Можете вывести первые строчки нового датафрейма и посмотреть его размер, чтобы убедиться, что объединение прошло корректно.\n",
    "      \n",
    "3) Сохраните датафрейм в csv файл с помощью метода, задав его название как строку `orders_status.csv` и параметр `index=False`.\n",
    "      \n",
    "4) Скачайте получившийся csv файл из той же папки в JupyterHub, где находится ноутбук, в котором вы пишете этот код. \n",
    "      \n",
    "</p>\n",
    "</details>"
   ]
  },
  {
   "cell_type": "code",
   "execution_count": 128,
   "metadata": {},
   "outputs": [
    {
     "data": {
      "text/html": [
       "<div>\n",
       "<style scoped>\n",
       "    .dataframe tbody tr th:only-of-type {\n",
       "        vertical-align: middle;\n",
       "    }\n",
       "\n",
       "    .dataframe tbody tr th {\n",
       "        vertical-align: top;\n",
       "    }\n",
       "\n",
       "    .dataframe thead th {\n",
       "        text-align: right;\n",
       "    }\n",
       "</style>\n",
       "<table border=\"1\" class=\"dataframe\">\n",
       "  <thead>\n",
       "    <tr style=\"text-align: right;\">\n",
       "      <th></th>\n",
       "      <th>order_id</th>\n",
       "      <th>product_id</th>\n",
       "      <th>quantity</th>\n",
       "      <th>manager</th>\n",
       "      <th>date</th>\n",
       "      <th>client_id</th>\n",
       "      <th>status</th>\n",
       "    </tr>\n",
       "  </thead>\n",
       "  <tbody>\n",
       "    <tr>\n",
       "      <th>0</th>\n",
       "      <td>DUEU-27693834</td>\n",
       "      <td>933</td>\n",
       "      <td>7</td>\n",
       "      <td>Алексей Саксофонов</td>\n",
       "      <td>2024-03-01</td>\n",
       "      <td>14</td>\n",
       "      <td>confirmed</td>\n",
       "    </tr>\n",
       "    <tr>\n",
       "      <th>1</th>\n",
       "      <td>DUEU-27693834</td>\n",
       "      <td>1645</td>\n",
       "      <td>36</td>\n",
       "      <td>Алексей Саксофонов</td>\n",
       "      <td>2024-03-01</td>\n",
       "      <td>14</td>\n",
       "      <td>confirmed</td>\n",
       "    </tr>\n",
       "    <tr>\n",
       "      <th>2</th>\n",
       "      <td>DUEU-27693834</td>\n",
       "      <td>1596</td>\n",
       "      <td>40</td>\n",
       "      <td>Алексей Саксофонов</td>\n",
       "      <td>2024-03-01</td>\n",
       "      <td>14</td>\n",
       "      <td>confirmed</td>\n",
       "    </tr>\n",
       "    <tr>\n",
       "      <th>3</th>\n",
       "      <td>DUEU-27693834</td>\n",
       "      <td>648</td>\n",
       "      <td>10</td>\n",
       "      <td>Алексей Саксофонов</td>\n",
       "      <td>2024-03-01</td>\n",
       "      <td>14</td>\n",
       "      <td>confirmed</td>\n",
       "    </tr>\n",
       "    <tr>\n",
       "      <th>4</th>\n",
       "      <td>DUEU-27693834</td>\n",
       "      <td>1413</td>\n",
       "      <td>6</td>\n",
       "      <td>Алексей Саксофонов</td>\n",
       "      <td>2024-03-01</td>\n",
       "      <td>14</td>\n",
       "      <td>confirmed</td>\n",
       "    </tr>\n",
       "    <tr>\n",
       "      <th>...</th>\n",
       "      <td>...</td>\n",
       "      <td>...</td>\n",
       "      <td>...</td>\n",
       "      <td>...</td>\n",
       "      <td>...</td>\n",
       "      <td>...</td>\n",
       "      <td>...</td>\n",
       "    </tr>\n",
       "    <tr>\n",
       "      <th>4598</th>\n",
       "      <td>OYBY-86181208</td>\n",
       "      <td>1575</td>\n",
       "      <td>3</td>\n",
       "      <td>Анастасия Дудкина</td>\n",
       "      <td>2024-03-31</td>\n",
       "      <td>11</td>\n",
       "      <td>confirmed</td>\n",
       "    </tr>\n",
       "    <tr>\n",
       "      <th>4599</th>\n",
       "      <td>OYBY-86181208</td>\n",
       "      <td>941</td>\n",
       "      <td>11</td>\n",
       "      <td>Анастасия Дудкина</td>\n",
       "      <td>2024-03-31</td>\n",
       "      <td>11</td>\n",
       "      <td>confirmed</td>\n",
       "    </tr>\n",
       "    <tr>\n",
       "      <th>4600</th>\n",
       "      <td>OYBY-86181208</td>\n",
       "      <td>1335</td>\n",
       "      <td>22</td>\n",
       "      <td>Анастасия Дудкина</td>\n",
       "      <td>2024-03-31</td>\n",
       "      <td>11</td>\n",
       "      <td>confirmed</td>\n",
       "    </tr>\n",
       "    <tr>\n",
       "      <th>4601</th>\n",
       "      <td>OYBY-86181208</td>\n",
       "      <td>296</td>\n",
       "      <td>22</td>\n",
       "      <td>Анастасия Дудкина</td>\n",
       "      <td>2024-03-31</td>\n",
       "      <td>11</td>\n",
       "      <td>confirmed</td>\n",
       "    </tr>\n",
       "    <tr>\n",
       "      <th>4602</th>\n",
       "      <td>OYBY-86181208</td>\n",
       "      <td>446</td>\n",
       "      <td>2</td>\n",
       "      <td>Анастасия Дудкина</td>\n",
       "      <td>2024-03-31</td>\n",
       "      <td>11</td>\n",
       "      <td>confirmed</td>\n",
       "    </tr>\n",
       "  </tbody>\n",
       "</table>\n",
       "<p>4603 rows × 7 columns</p>\n",
       "</div>"
      ],
      "text/plain": [
       "           order_id  product_id  quantity             manager       date  \\\n",
       "0     DUEU-27693834         933         7  Алексей Саксофонов 2024-03-01   \n",
       "1     DUEU-27693834        1645        36  Алексей Саксофонов 2024-03-01   \n",
       "2     DUEU-27693834        1596        40  Алексей Саксофонов 2024-03-01   \n",
       "3     DUEU-27693834         648        10  Алексей Саксофонов 2024-03-01   \n",
       "4     DUEU-27693834        1413         6  Алексей Саксофонов 2024-03-01   \n",
       "...             ...         ...       ...                 ...        ...   \n",
       "4598  OYBY-86181208        1575         3   Анастасия Дудкина 2024-03-31   \n",
       "4599  OYBY-86181208         941        11   Анастасия Дудкина 2024-03-31   \n",
       "4600  OYBY-86181208        1335        22   Анастасия Дудкина 2024-03-31   \n",
       "4601  OYBY-86181208         296        22   Анастасия Дудкина 2024-03-31   \n",
       "4602  OYBY-86181208         446         2   Анастасия Дудкина 2024-03-31   \n",
       "\n",
       "      client_id     status  \n",
       "0            14  confirmed  \n",
       "1            14  confirmed  \n",
       "2            14  confirmed  \n",
       "3            14  confirmed  \n",
       "4            14  confirmed  \n",
       "...         ...        ...  \n",
       "4598         11  confirmed  \n",
       "4599         11  confirmed  \n",
       "4600         11  confirmed  \n",
       "4601         11  confirmed  \n",
       "4602         11  confirmed  \n",
       "\n",
       "[4603 rows x 7 columns]"
      ]
     },
     "execution_count": 128,
     "metadata": {},
     "output_type": "execute_result"
    }
   ],
   "source": [
    "df_orders_status = df_orders.merge(df_order_status, how='inner')\n",
    "df_orders_status.to_csv('../data/final_project/orders_status.csv', index=False)"
   ]
  },
  {
   "attachments": {},
   "cell_type": "markdown",
   "metadata": {},
   "source": [
    "## Шаг 7"
   ]
  },
  {
   "attachments": {},
   "cell_type": "markdown",
   "metadata": {},
   "source": [
    "Посмотрите на количество и соотношение подтвержденных и отмененных заказов. **В ответе укажите долю отмененных заказов.** Ответ округлите до двух знаков после точки."
   ]
  },
  {
   "attachments": {},
   "cell_type": "markdown",
   "metadata": {},
   "source": [
    "<details>\n",
    "<summary>&#9658; Нажмите сюда, чтобы увидеть подсказку</summary>\n",
    "  <p>\n",
    "      \n",
    "1) Чтобы оставить в данных только информацию о том, был заказ подтвержден или отменен, выберите из датафрейма `orders_status` колонки с номером заказа и статусом, а затем удалите дубликаты (НЕ сохраняйте результат в тот же датафрейм, потому что `orders_status` в полном виде понадобится для решения следующих заданий).\n",
    "\n",
    "2) Посчитайте частоту, с которой встречается каждый из статусов в оставшихся данных.\n",
    "\n",
    "3) Посчитайте долю каждого из статусов. Значения округлите до 2 знаков после точки.\n",
    "\n",
    "      \n",
    "</p>\n",
    "</details>"
   ]
  },
  {
   "cell_type": "code",
   "execution_count": 146,
   "metadata": {},
   "outputs": [
    {
     "data": {
      "text/plain": [
       "np.float64(0.11)"
      ]
     },
     "execution_count": 146,
     "metadata": {},
     "output_type": "execute_result"
    }
   ],
   "source": [
    "count_confirmed_order = df_orders_status.query('status == \"confirmed\"').count().order_id\n",
    "count_canceled_order = df_orders_status.query('status == \"canceled\"').count().order_id\n",
    "canceled_order_ratio = round(count_canceled_order/(count_confirmed_order+count_canceled_order),2)\n",
    "canceled_order_ratio"
   ]
  },
  {
   "attachments": {},
   "cell_type": "markdown",
   "metadata": {},
   "source": [
    "## Шаг 8"
   ]
  },
  {
   "attachments": {},
   "cell_type": "markdown",
   "metadata": {},
   "source": [
    "**Посчитайте количество подтвержденных и отмененных заказов на каждую дату.** Определите, в какой день не было ни одного подтвержденного заказа. Для этого сделайте сводную таблицу, где в строках будут даты, в колонках — стутасы заказов, а значения — число заказов с этим статусом в определенную дату. Пропуски заполните нулями.  \n",
    "\n",
    "**В ответ укажите день, когда не было ни одного подтвержденного заказа.** Дату укажите в том формате, в котором она представлена в данных (гггг-мм-дд)."
   ]
  },
  {
   "attachments": {},
   "cell_type": "markdown",
   "metadata": {},
   "source": [
    "<details>\n",
    "<summary>&#9658; Нажмите сюда, чтобы увидеть подсказку</summary>\n",
    "  <p>\n",
    "      \n",
    "1) Данные в датафрейме `orders_status` сгруппируйте по дате и статусу, посчитайте количество уникальных заказов для каждой группы. Получившуюся колонку с числом заказов можете переименовать в `orders`.\n",
    "      \n",
    "2) Разверните получившийся датафрейм так, чтобы получилась сводная таблица, где в индексе — даты, в колонках — статусы, а в значениях — количество заказов. \n",
    "      \n",
    "3) Пропуски заполните нулями.\n",
    "      \n",
    "4) Из-за того, что после разворота таблицы в колонках `canceled` и `confirmed` появились пропущенные значения, тип данных в этих колонках стал `float`. Но число заказов не может быть дробным, поэтому приведите эти колонки к типу `int`.\n",
    "      \n",
    "5) Отфильтруйте строки, где значение в колонке `confirmed` равно нулю.\n",
    "      \n",
    "</p>\n",
    "</details>"
   ]
  },
  {
   "cell_type": "code",
   "execution_count": 102,
   "metadata": {},
   "outputs": [],
   "source": [
    "# Ваш код здесь\n",
    "\n"
   ]
  },
  {
   "attachments": {},
   "cell_type": "markdown",
   "metadata": {},
   "source": [
    "## Шаг 9"
   ]
  },
  {
   "attachments": {},
   "cell_type": "markdown",
   "metadata": {},
   "source": [
    "**Постройте график с заказами по дням в разбивке по статусу заказа.** Посмотрим подробнее на день с наибольшим числом заказов (вместе и подтвержденных, и отменных), который мы определили ранее, и на день, предшествующий ему. Какой вывод можно сделать? Выберите один или несколько вариантов:\n",
    "\n",
    "- В день с наибольшим числом заказов было очень много отмен  \n",
    "- В день с наибольшим числом заказов было много успешно оформленных заказов  \n",
    "- В день, предшествующий дню с наибольшим числом заказов, было много отмен  \n",
    "- В день, предшествующий дню с наибольшим числом заказов, было много успешно оформленных заказов  \n",
    "- В день, предшествующий дню с наибольшим числом заказов, не было ни одного успешно оформленного заказа  \n",
    "- В день, предшествующий дню с наибольшим числом заказов, не было ни одного отмененного заказа"
   ]
  },
  {
   "attachments": {},
   "cell_type": "markdown",
   "metadata": {},
   "source": [
    "<details>\n",
    "<summary>&#9658; Нажмите сюда, чтобы увидеть подсказку</summary>\n",
    "  <p>\n",
    "      \n",
    "Постройте линейный график, где по оси `х` будут идти даты, по оси `у` — количество заказов, а цвета линий будут определены статусами заказов. Если метки с датами наползают друг на друга, поверните их под углом 45 градусов.\n",
    "\n",
    "</p>\n",
    "</details>"
   ]
  },
  {
   "cell_type": "code",
   "execution_count": 103,
   "metadata": {},
   "outputs": [],
   "source": [
    "# Ваш код здесь\n",
    "\n"
   ]
  },
  {
   "attachments": {},
   "cell_type": "markdown",
   "metadata": {},
   "source": [
    "## Шаг 10"
   ]
  },
  {
   "attachments": {},
   "cell_type": "markdown",
   "metadata": {},
   "source": [
    "Рассмотрим эти два дня отдельно (день с наибольшим числом заказов, который мы определили ранее, и день, предшествующий ему). Проанализируйте заказы за эти дни и ответьте, какую из этих гипотез можно назвать наиболее правдоподобной.\n",
    "\n",
    "- Так сложилось, что один день оказался крайне неудачным для отдела продаж, все клиенты отменили свои заказы. А на следующий день отдел продаж пытался компенсировать отсутствие продаж в предыдущий и перевыполнил дневной план. Почти все заказы не повторяют вчерашние  \n",
    "- Произошел сбой в работе CRM системы, который не позволил клиентам подтвердить заказ. В результате все созданные в первый день заказы автоматически отменились, поэтому клиентам пришлось оформлять их повторно на следующий день. Почти половина заказов повторяет вчерашние\n",
    "\n",
    "Как можно определить, что заказ повторяет вчерашний? У заказов будут совпадать сразу несколько параметров: клиент, менеджер, количество уникальных товаров в заказе и общее число товаров в штуках. Но номера заказов будут разными."
   ]
  },
  {
   "attachments": {},
   "cell_type": "markdown",
   "metadata": {},
   "source": [
    "<details>\n",
    "<summary>&#9658; Нажмите сюда, чтобы увидеть подсказку</summary>\n",
    "  <p>\n",
    "      \n",
    "1) Отберите все отмененные заказы 13 марта и для каждого заказа агрегируйте данные: посчитайте количество уникальных товаров в нем, сумму единиц всех товаров, а также возьмите менеджера и клиента (примените к соответствующим колонкам функции `max`).\n",
    "      \n",
    "2) Отберите все подтвержденные заказы 14 марта и для каждого заказа агрегируйте данные: посчитайте количество уникальных товаров в нем, сумму единиц всех товаров, а также возьмите менеджера и клиента (примените к соответствующим колонкам функции `max`).\n",
    "      \n",
    "3) Объедините эти датафреймы с заказами по совпадающим характеристикам: имя менеджера, id клиента, число уникальных товаров в заказе и общее число товаров в штуках. Так у вас получатся те заказы, которые отменили в первый день и оформили заново на следующий.\n",
    "      \n",
    "4) Посчитайте число строк в датафрейме с заказами, которые отменили в первый день и оформили заново на следующий. Разделите это число на число строк в датафрейме с подтвержденными заказами 14 марта. Так вы узнаете долю заказов, которые повторяют вчерашние.\n",
    "      \n",
    "</p>\n",
    "</details>"
   ]
  },
  {
   "cell_type": "code",
   "execution_count": 104,
   "metadata": {},
   "outputs": [],
   "source": [
    "# Ваш код здесь\n",
    "\n"
   ]
  },
  {
   "attachments": {},
   "cell_type": "markdown",
   "metadata": {},
   "source": [
    "### Посчитаем ключевые метрики, посмотрим на их динамику и составим небольшой отчет"
   ]
  },
  {
   "attachments": {},
   "cell_type": "markdown",
   "metadata": {},
   "source": [
    "## Шаг 11"
   ]
  },
  {
   "attachments": {},
   "cell_type": "markdown",
   "metadata": {},
   "source": [
    "**У вас есть данные за целый месяц, поэтому пора посчитать ключевые метрики этого месяца.** Но вот незадача - в ваших данных цена единицы товара указана в долларах США, потому что закупаете их в долларах, но продаете товары за российские рубли (по тому курсу, который установил Центробанк на дату продажи), а значит и метрики требуется посчитать в рублях. Хорошо, что у вас есть текстовый файл с курсом доллара США на каждую дату. **Откройте файл `usd_rate.txt`, соберите из него датафрейм с 2 колонками: `date` и `currency_rate`. Посчитайте среднее значение курса доллара за месяц.** Результат округлите до двух знаков после точки."
   ]
  },
  {
   "attachments": {},
   "cell_type": "markdown",
   "metadata": {},
   "source": [
    "<details>\n",
    "<summary>&#9658; Нажмите сюда, чтобы увидеть подсказку</summary>\n",
    "  <p>\n",
    "      \n",
    "1) Откройте файл `usd_rate.txt` с помощью контекстного менеджера `with` и функции `open()`. Список строк сохраните в переменную `currency`.\n",
    "      \n",
    "2) С помощью функции `pd.DataFrame(columns=['col_name'])` создайте из списка датафрейм с любым названием единственной колонки.\n",
    "      \n",
    "3) На основе имеющейся колонки создайте колонки `date` и `currency_rate`, куда положите соответствующие данные. Для этого разделите общую строку со всеми данными и возьмите нужные данные по индексу.\n",
    "      \n",
    "4) Переведите колонку `date` в тип `datetime`.\n",
    "      \n",
    "5) Удалите из датафрейма ненужную колонку с общими данными.\n",
    "      \n",
    "6) Посчитайте среднее значение курса доллара за месяц.\n",
    "      \n",
    "7) Результат округлите до двух знаков после точки.   \n",
    "      \n",
    "</p>\n",
    "</details>"
   ]
  },
  {
   "cell_type": "code",
   "execution_count": 105,
   "metadata": {},
   "outputs": [],
   "source": [
    "# Ваш код здесь\n",
    "\n"
   ]
  },
  {
   "attachments": {},
   "cell_type": "markdown",
   "metadata": {},
   "source": [
    "## Шаг 12"
   ]
  },
  {
   "attachments": {},
   "cell_type": "markdown",
   "metadata": {},
   "source": [
    "**Работу с ключевыми метриками начните с подсчета общей выручки.** Данные по товарам в подтвержденных заказах у вас есть в датафрейме `orders_status`, а стоимость одной единицы товара можно взять из датафрейма `df_products`. Объедините эти датафреймы в общий `df_full`, добавьте к ним информацию по курсу доллара на каждую дату. Создайте колонку с выручкой для каждого товара в заказах и посчитайте, **чему равна общая выручка в рублях?** Учитывайте только подтвержденные заказы. Результат округлите до двух знаков после точки."
   ]
  },
  {
   "attachments": {},
   "cell_type": "markdown",
   "metadata": {},
   "source": [
    "<details>\n",
    "<summary>&#9658; Нажмите сюда, чтобы увидеть подсказку</summary>\n",
    "  <p>\n",
    "      \n",
    "1) Присоедините к датафрейму `orders_status` датафрейм `df_products`, указав, что ключом в левом датафрейме будет являться колонка `product_id` (параметр `left_on`), а в правом — колонка `id` (параметр `right_on`). Новый датафрейм сохраните в `df_full`.\n",
    "      \n",
    "2) К датафрейму `df_full` добавьте информацию о курсе доллара на каждую дату, присоединив датафрейм `df_currency` по общей колонке с датой.\n",
    "      \n",
    "3) Создайте колонку `price_rub` с ценами в рублях. Для этого умножьте значения в колонке `price` с ценами на значения в колонке `currency_rate` с курсом валюты.\n",
    "      \n",
    "4) Создайте колонку `revenue` с выручкой, умножив колонку со стоимостью единицы товара в рублях на колонку с количеством товара.\n",
    "      \n",
    "5) Отберите только записи с подтвержденными заказами и сохраните результат в датафрейм `df_confirmed`, он вам ещё пригодится.\n",
    "      \n",
    "6) Суммируйте значения в колонке `revenue` и округлите результат до двух знаков после точки.\n",
    "      \n",
    "</p>\n",
    "</details>"
   ]
  },
  {
   "cell_type": "code",
   "execution_count": 106,
   "metadata": {},
   "outputs": [],
   "source": [
    "# Ваш код здесь\n",
    "\n"
   ]
  },
  {
   "attachments": {},
   "cell_type": "markdown",
   "metadata": {},
   "source": [
    "## Шаг 13"
   ]
  },
  {
   "attachments": {},
   "cell_type": "markdown",
   "metadata": {},
   "source": [
    "**Следующая метрика, которую вам нужно посчитать — средний чек в этом месяце (в рублях).** Разделите общую выручку на количество заказов. Результат округлите до двух знаков после точки."
   ]
  },
  {
   "attachments": {},
   "cell_type": "markdown",
   "metadata": {},
   "source": [
    "<details>\n",
    "<summary>&#9658; Нажмите сюда, чтобы увидеть подсказку</summary>\n",
    "  <p>\n",
    "      \n",
    "1) Посчитайте число уникальных подтвержденных заказов.\n",
    "\n",
    "2) Разделите сумму выручки, посчитанную на прошлом шаге (без округления), на это число.\n",
    "\n",
    "3) Результат округлите до двух знаков после точки.  \n",
    "      \n",
    "</p>\n",
    "</details>"
   ]
  },
  {
   "cell_type": "code",
   "execution_count": 107,
   "metadata": {},
   "outputs": [],
   "source": [
    "# Ваш код здесь\n",
    "\n"
   ]
  },
  {
   "attachments": {},
   "cell_type": "markdown",
   "metadata": {},
   "source": [
    "## Шаг 14"
   ]
  },
  {
   "attachments": {},
   "cell_type": "markdown",
   "metadata": {},
   "source": [
    "Ключевые метрики месяца вы посчитали, теперь попробуйте посмотреть на их динамику внутри месяца: посчитайте выручку, средний чек и число заказов — на каждый день. Посмотрите на графики и выберите верные ответы:\n",
    "\n",
    "- число заказов и выручка каждый день изменяются в одинаковом направлении (если в этот день число заказов выросло, то и выручка выросла; число заказов упало — в этот же день упала и выручка)  \n",
    "- число заказов и выручка не каждый день изменяются в одинаковом направлении (если в какой-то день число заказов выросло, то выручка может упасть, и наоборот: число заказов упало — в этот же день выручка выросла)  \n",
    "- средний чек и выручка каждый день изменяются в одинаковом направлении (если в этот день средний чек вырос, то и выручка выросла; средний чек упал — в этот же день упала и выручка)  \n",
    "- средний чек и выручка не каждый день изменяются в одинаковом направлении (если в какой-то день средний чек вырос, то выручка может упасть, и наоборот: средний чек упал — в этот же день выручка выросла)  \n",
    "- в день с наибольшим числом заказов и выручка, и средний чек также показывают максимальное значение  \n",
    "- в день с наибольшим числом заказов выручка и/или средний чек не показывают максимальное значение  \n",
    "- с течением времени выручка то увеличивается, то уменьшается  \n",
    "- с течением времени выручка только увеличивается  \n",
    "- на протяжении всего месяца средний чек то увеличивается, то уменьшается  \n",
    "- средний чек на протяжении всего месяца имеет одинаковое значение"
   ]
  },
  {
   "attachments": {},
   "cell_type": "markdown",
   "metadata": {},
   "source": [
    "<details>\n",
    "<summary>&#9658; Нажмите сюда, чтобы увидеть подсказку</summary>\n",
    "  <p>\n",
    "      \n",
    "1) Сгруппируйте датафрейм `df_confirmed` с подтвержденными заказами по дате и посчитайте на каждую дату число ункальных заказов и выручку. Результат сохраните в датафрейм `df_report_by_date`. Получившуюся колонку с числом заказов можете переименовать в `orders`. \n",
    "      \n",
    "2) Создайте колонку со значением среднего чека в каждую дату, для этого разделите значения в колонке с выручкой на значения в колонке с числом заказов. Результат округлите до двух знаков после точки\n",
    "      \n",
    "3) Постройте три линейных графика, один под другим (в одной ячейке или в разных)\n",
    "      \n",
    "</p>\n",
    "</details>"
   ]
  },
  {
   "cell_type": "code",
   "execution_count": 108,
   "metadata": {},
   "outputs": [],
   "source": [
    "# Ваш код здесь\n",
    "\n"
   ]
  },
  {
   "attachments": {},
   "cell_type": "markdown",
   "metadata": {},
   "source": [
    "### Проанализируем интерес клиентов к брендам"
   ]
  },
  {
   "attachments": {},
   "cell_type": "markdown",
   "metadata": {},
   "source": [
    "## Шаг 15"
   ]
  },
  {
   "attachments": {},
   "cell_type": "markdown",
   "metadata": {},
   "source": [
    "К вам снова обратился руководитель отдела продаж. Он хочет разобраться, какие бренды востребованы среди клиентов, а какие — нет. На основе данных о названиях товаров в датафрейме `df_full` создайте новую колонку `brand`, где будет только название бренда. **Посчитайте, сколькими брендами интересовались клиенты** (статус заказа здесь не важен, если запись о бренде попала в данные о заказах, значит клиент заказал или хотел заказать товар этого бренда)."
   ]
  },
  {
   "attachments": {},
   "cell_type": "markdown",
   "metadata": {},
   "source": [
    "<details>\n",
    "<summary>&#9658; Нажмите сюда, чтобы увидеть подсказку</summary>\n",
    "  <p>\n",
    "      \n",
    "1) В датафрейме `df_full` создайте новую колонку `brand`, в которую поместите только названия брендов. Для этого разделите значения в колонке name и возьмите первое из них (сначала идет бренд и через запятую модель товара).\n",
    "\n",
    "2) Посчитайте количество уникальных значений в колонке `brand`.\n",
    "      \n",
    "</p>\n",
    "</details>"
   ]
  },
  {
   "cell_type": "code",
   "execution_count": 109,
   "metadata": {},
   "outputs": [],
   "source": [
    "# Ваш код здесь\n",
    "\n"
   ]
  },
  {
   "attachments": {},
   "cell_type": "markdown",
   "metadata": {},
   "source": [
    "## Шаг 16"
   ]
  },
  {
   "attachments": {},
   "cell_type": "markdown",
   "metadata": {},
   "source": [
    "Посчитайте, какую выручку принес каждый бренд и в скольких подтвержденных заказах были товары этого бренда. **Определите, какой бренд принес наибольшую выручку.** В ответ укажите его название.\n",
    "\n",
    "Дополнительно: проверьте, именно этот бренд встречается в большем количестве заказов, чем другие бренды? Или может его реже заказывают, но на более крупные суммы?"
   ]
  },
  {
   "attachments": {},
   "cell_type": "markdown",
   "metadata": {},
   "source": [
    "<details>\n",
    "<summary>&#9658; Нажмите сюда, чтобы увидеть подсказку</summary>\n",
    "  <p>\n",
    "      \n",
    "1) Отберите в датафрейме `df_full` только подтвержденные заказы.\n",
    "\n",
    "2) Сгруппируйте данные по брендам и посчитайте выручку и количество уникальных заказов.\n",
    "\n",
    "3) Отсортируйте агрегированные данные по убыванию выручки и посмотрите бренд в верхней строчке.\n",
    "\n",
    "4) Дополнительно: отсортируйте агрегированные данные по убыванию количество заказов и посмотрите бренд в верхней строчке.\n",
    "\n",
    "</p>\n",
    "</details>"
   ]
  },
  {
   "cell_type": "code",
   "execution_count": 110,
   "metadata": {},
   "outputs": [],
   "source": [
    "# Ваш код здесь\n",
    "\n"
   ]
  },
  {
   "attachments": {},
   "cell_type": "markdown",
   "metadata": {},
   "source": [
    "## Шаг 17"
   ]
  },
  {
   "attachments": {},
   "cell_type": "markdown",
   "metadata": {},
   "source": [
    "У одних брендов большинство товаров востребовано клиентами, а у других — клиенты заказывают только небольшую часть товаров, а остальные зря занимают виртуальную «полку» в перечне товаров, продаваемых вашей компанией. **Вам нужно определить, какие бренды редко попадают в заказы, хотя товаров таких брендов на самом деле много.**\n",
    "\n",
    "Начнем с того, что определим, какие товары из имеющихся в продаже хоть раз заказывали, а какие — нет. Для этого соберите список из перечня уникальных идентификаторов товаров, которые встречаются в датафрейме `df_confirmed`. После этого для каждого товара в датафрейме `df_products` определите, был ли этот товар в списке заказанных товаров в этом месяце или нет: создайте новую колонку `is_in_orders` и заполните её соответственно значениями `yes` или `no` для каждого товара.\n",
    "\n",
    "**В ответе укажите, сколько товаров были заказаны, а сколько — не были**"
   ]
  },
  {
   "attachments": {},
   "cell_type": "markdown",
   "metadata": {},
   "source": [
    "<details>\n",
    "<summary>&#9658; Нажмите сюда, чтобы увидеть подсказку</summary>\n",
    "  <p>\n",
    "      \n",
    "1) Сохраните в список `products_in_orders` уникальные идентификаторы товаров из датафрейма `df_confirmed`.\n",
    "      \n",
    "2) Создайте в датафрейме `df_products` новую колонку `is_in_orders`, в которой будет значение `yes`, если значение из колонки `id` этого датафрейма есть в списке `products_in_orders`. Если его в этом списке нет - в новую колонку для этой строчки запишите значение `no`.\n",
    "      \n",
    "3) Посчитайте количество встречающихся значений `yes` и  `no` в колонке `is_in_orders`.\n",
    "      \n",
    "</p>\n",
    "</details>"
   ]
  },
  {
   "cell_type": "code",
   "execution_count": 111,
   "metadata": {},
   "outputs": [],
   "source": [
    "# Ваш код здесь\n",
    "\n"
   ]
  },
  {
   "attachments": {},
   "cell_type": "markdown",
   "metadata": {},
   "source": [
    "## Шаг 18"
   ]
  },
  {
   "attachments": {},
   "cell_type": "markdown",
   "metadata": {},
   "source": [
    "Примерно треть товаров не была заказана ни разу в этом месяце. Посмотрим на эти данные в разрезе по брендам. **Определите, у каких брендов доля ни разу не заказанных товаров была больше половины от всех продаваемых товаров этого бренда.** Но не берите в расчет бренды, которые представлены маленьким числом товаров (меньше 15), они не захламляют виртуальную «полку».\n",
    "\n",
    "Отметьте бренды, у которых доля ни разу не заказанных товаров была больше половины от всех продаваемых товаров этого бренда: \n",
    "- AKG  \n",
    "- ASUS\t\n",
    "- Dali  \n",
    "- Emotiva  \n",
    "- KEF  \n",
    "- Marantz  \n",
    "- Onkyo  \n",
    "- Pioneer  \n",
    "- Yaqin"
   ]
  },
  {
   "attachments": {},
   "cell_type": "markdown",
   "metadata": {},
   "source": [
    "<details>\n",
    "<summary>&#9658; Нажмите сюда, чтобы увидеть подсказку</summary>\n",
    "  <p>\n",
    "       \n",
    "1) В датафрейме `df_products` создайте новую колонку `brand`, в которую поместите только названия брендов. Для этого разделите значения в колонке `name` и возьмите первое из них (сначала идет бренд и через запятую модель товара).\n",
    "      \n",
    "2) Сгруппируйте данные по бренду и колонке, в которой указано, есть товар в заказах, и посчитайте число уникальных товаров. Колонку с числом товаров можете переименовать в `products`.\n",
    "      \n",
    "3) Разверните сгруппированные данные так, чтобы получилась сводная таблица в которой в индексе названия брендов, в колонках - есть товар в заказах или нет (`yes` и `no`), в значениях - количество товаров.\n",
    "      \n",
    "4) Заполните пропуски нулями.\n",
    "      \n",
    "5) Сбросьте индекс, чтобы названия брендов стали колонкой.\n",
    "      \n",
    "6) Посчитайте общее число товаров для каждого бренда, сложив значения в колонках `yes` и `no`.\n",
    "      \n",
    "7) Для каждого бренда посчитайте долю ни разу не заказанных товаров от всех продаваемых товаров этого бренда.\n",
    "      \n",
    "8) Отберите только те бренды, где общее число товаров больше 15 и доля ни разу не заказанных товаров больше половины (0.5).\n",
    "      \n",
    "</p>\n",
    "</details>"
   ]
  },
  {
   "cell_type": "code",
   "execution_count": 112,
   "metadata": {},
   "outputs": [],
   "source": [
    "# Ваш код здесь\n",
    "\n"
   ]
  },
  {
   "attachments": {},
   "cell_type": "markdown",
   "metadata": {},
   "source": [
    "### Составим отчет по продажам менеджеров"
   ]
  },
  {
   "attachments": {},
   "cell_type": "markdown",
   "metadata": {},
   "source": [
    "## Шаг 19"
   ]
  },
  {
   "attachments": {},
   "cell_type": "markdown",
   "metadata": {},
   "source": [
    "Чтобы компания знала, кого из менеджеров отдела продаж премировать, а с кем провести беседу по итогам месяца, **вас попросили сделать отчет по сделкам каждого менеджера**: сколько он оформил подтвержденных заказов и какую выручку они принесли. Но в абсолютных числах вклад каждого сотрудника может быть непонятен. **Поэтому посчитайте значения в процентах: какой % выручки от общей выручки за месяц приходится на каждого менеджера, и какой % заказов от общего числа заказов.** Посчитайте данные и визуализируйте результат, чтобы принимать решение о поощрении или проведении беседы с менеджерами было удобнее. Выберите верные ответы:\n",
    "\n",
    "- лучшим менеджером по % выручки стала Маргарита Камертонова  \n",
    "- лучшим менеджером по % заказов стала Маргарита Камертонова  \n",
    "- первая пятерка менеджеров по % выручки сильно ушла вперед от всех остальных (явно виден большой разрыв между каждым из первой пятерки и каждым из всех остальных менеджеров)  \n",
    "- в этом месяце нельзя выделить явную пятерку лидеров по % выручки, которые сильно оторвались от остальных  \n",
    "- лидер по % заказов реализовал более 16% заказов  \n",
    "- лидер по % заказов реализовал менее 16% заказов  \n",
    "- наихудшие показатели у Сергея Контрабасова  \n",
    "- наихудшие показатели у Аркадия Октавина  \n",
    "- Антон Скрипкин принес в 3 раза меньше выручки, чем Виктор Тромбонов  \n",
    "- Антон Скрипкин реализовал почти в 3 раза меньше заказов, чем Анастасия Дудкина"
   ]
  },
  {
   "attachments": {},
   "cell_type": "markdown",
   "metadata": {},
   "source": [
    "<details>\n",
    "<summary>&#9658; Нажмите сюда, чтобы увидеть подсказку</summary>\n",
    "  <p>\n",
    "       \n",
    "1) Сгруппируйте данные с подтвержденными заказами из датафрейма `df_confirmed` по менеджерам и посчитайте для каждого сумму выручки и количество заказов. Получившуюся колонку с числом заказов можете переименовать в `orders`.\n",
    "      \n",
    "2) Отсортируйте записи по убыванию выручки.\n",
    "      \n",
    "3) Посчитайте процент выручки, приходящейся на каждого менеджера: разделите его выручку на суммарную выручку всех менеджеров и умножьте результат на 100. Округлите до двух знаков после точки.\n",
    "      \n",
    "4) Посчитайте процент заказов, приходящихся на каждого менеджера: разделите его число заказов на суммарное число заказов всех менеджеров и умножьте результат на 100. Округлите до двух знаков после точки.   \n",
    "      \n",
    "5) Постройте два барплота (столбиковые диаграммы): со значениями % выручки и % заказов у каждого менеджера.\n",
    "      \n",
    "</p>\n",
    "</details>"
   ]
  },
  {
   "cell_type": "code",
   "execution_count": 113,
   "metadata": {},
   "outputs": [],
   "source": [
    "# Ваш код здесь\n",
    "\n"
   ]
  },
  {
   "attachments": {},
   "cell_type": "markdown",
   "metadata": {},
   "source": [
    "## Итоги"
   ]
  },
  {
   "attachments": {},
   "cell_type": "markdown",
   "metadata": {},
   "source": [
    "В финальном проекте модуля Python вы проанализировали продажи музыкальных товаров: собрали данные, посчитали ключевые метрики в динамике; определили дни, которые выбиваются из общей картины, и выяснили причину этого; нашли наиболее прибыльные бренды и те, которые зря занимают место на виртуальной «полке». Вы проделали отличную работу!\n",
    "\n",
    "Но если считаете, что можете больше, продолжайте анализ имеющихся данных самостоятельно. Например, посмотрите, в какие дни недели оформляется в среднем больше заказов; составьте более полный отчет по продажам каждого менеджера (учтите отмененные заказы); определите наиболее и наименее популярные/прибыльные категории товаров и т.п. Данные полны инсайтов! Но эти задания не оцениваются и по ним не осуществляется поддержка экспертов. Зато вы можете сделать эту работу своим пет-проектом :)"
   ]
  }
 ],
 "metadata": {
  "kernelspec": {
   "display_name": "Python 3",
   "language": "python",
   "name": "python3"
  },
  "language_info": {
   "codemirror_mode": {
    "name": "ipython",
    "version": 3
   },
   "file_extension": ".py",
   "mimetype": "text/x-python",
   "name": "python",
   "nbconvert_exporter": "python",
   "pygments_lexer": "ipython3",
   "version": "3.11.2"
  }
 },
 "nbformat": 4,
 "nbformat_minor": 5
}
